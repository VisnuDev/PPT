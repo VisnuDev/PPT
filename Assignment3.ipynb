{
 "cells": [
  {
   "cell_type": "code",
   "execution_count": null,
   "id": "59e8343e",
   "metadata": {},
   "outputs": [],
   "source": [
    "Question 1\n",
    "Given an integer array nums of length n and an integer target, find three integers\n",
    "in nums such that the sum is closest to the target.\n",
    "Return the sum of the three integers.\n",
    "\n",
    "You may assume that each input would have exactly one solution.\n",
    "\n",
    "Example 1:\n",
    "Input: nums = [-1,2,1,-4], target = 1\n",
    "Output: 2\n",
    "\n",
    "Explanation: The sum that is closest to the target is 2. (-1 + 2 + 1 = 2)."
   ]
  },
  {
   "cell_type": "code",
   "execution_count": 21,
   "id": "d1d23707",
   "metadata": {
    "ExecuteTime": {
     "end_time": "2023-06-02T16:00:14.237282Z",
     "start_time": "2023-06-02T16:00:14.215281Z"
    }
   },
   "outputs": [
    {
     "name": "stdout",
     "output_type": "stream",
     "text": [
      "2\n"
     ]
    }
   ],
   "source": [
    "def close_sum(nums, target):\n",
    "    nums.sort()\n",
    "    close= nums[0] + nums[1] + nums[2]\n",
    "    diff = abs(close - target)\n",
    "    for i in range(len(nums) -2):\n",
    "        l= i+1\n",
    "        r= len(nums) -1\n",
    "        while l<r:\n",
    "            s= nums[i] + nums[l] + nums[r]\n",
    "            curr_diff= abs(s-target)\n",
    "            if curr_diff < diff:\n",
    "                close= s\n",
    "                diff = curr_diff\n",
    "            if s==target:\n",
    "                break\n",
    "            if curr_diff > diff:\n",
    "                l+=1\n",
    "            elif curr_diff==diff:\n",
    "                break\n",
    "            else:\n",
    "                r -= 1\n",
    "        if diff==0:\n",
    "            break\n",
    "    return close\n",
    "\n",
    "\n",
    "\n",
    "\n",
    "print(close_sum([-1,2,1,-4], 1))\n",
    "            \n",
    "            "
   ]
  },
  {
   "cell_type": "code",
   "execution_count": null,
   "id": "37d9c1e0",
   "metadata": {},
   "outputs": [],
   "source": []
  },
  {
   "cell_type": "code",
   "execution_count": null,
   "id": "d894ba3c",
   "metadata": {},
   "outputs": [],
   "source": []
  },
  {
   "cell_type": "code",
   "execution_count": null,
   "id": "4330b7f9",
   "metadata": {},
   "outputs": [],
   "source": [
    "Question 2\n",
    "Given an array nums of n integers, return an array of all the unique quadruplets\n",
    "[nums[a], nums[b], nums[c], nums[d]] such that:\n",
    "           ● 0 <= a, b, c, d < n\n",
    "           ● a, b, c, and d are distinct.\n",
    "           ● nums[a] + nums[b] + nums[c] + nums[d] == target\n",
    "\n",
    "You may return the answer in any order.\n",
    "\n",
    "Example 1:\n",
    "Input: nums = [1,0,-1,0,-2,2], target = 0\n",
    "Output: [[-2,-1,1,2],[-2,0,0,2],[-1,0,0,1]]"
   ]
  },
  {
   "cell_type": "code",
   "execution_count": 31,
   "id": "ca2aa63f",
   "metadata": {
    "ExecuteTime": {
     "end_time": "2023-06-02T16:17:43.711347Z",
     "start_time": "2023-06-02T16:17:43.692347Z"
    }
   },
   "outputs": [
    {
     "name": "stdout",
     "output_type": "stream",
     "text": [
      "[[-2, -1, 1, 2], [-2, 0, 0, 2], [-1, 0, 0, 1]]\n"
     ]
    }
   ],
   "source": [
    "#Ans:\n",
    "\n",
    "def uni_quadruplets(nums, target):\n",
    "    nums.sort()\n",
    "    s=list()\n",
    "    for a in range(len(nums)):\n",
    "        for b in range(a+1, len(nums)):\n",
    "            c=b+1\n",
    "            d=len(nums)-1\n",
    "            while c < d:\n",
    "                add= nums[a] + nums[b] + nums[c] + nums[d]\n",
    "                if add==target:\n",
    "                    s.append([nums[a], nums[b], nums[c], nums[d]])\n",
    "                    c += 1\n",
    "                    d -= 1\n",
    "                elif add< target:\n",
    "                    c +=1\n",
    "                elif add> target:\n",
    "                    d -=1\n",
    "    return s\n",
    "\n",
    "\n",
    "\n",
    "#case1\n",
    "print(uni_quadruplets([1,0,-1,0,-2,2], 0))\n",
    "\n"
   ]
  },
  {
   "cell_type": "code",
   "execution_count": null,
   "id": "0885abff",
   "metadata": {},
   "outputs": [],
   "source": []
  },
  {
   "cell_type": "code",
   "execution_count": null,
   "id": "f584951e",
   "metadata": {},
   "outputs": [],
   "source": []
  },
  {
   "cell_type": "code",
   "execution_count": null,
   "id": "5c06863d",
   "metadata": {},
   "outputs": [],
   "source": [
    "<aside>\n",
    "💡 **Question 3**\n",
    "A permutation of an array of integers is an arrangement of its members into a\n",
    "sequence or linear order.\n",
    "\n",
    "For example, for arr = [1,2,3], the following are all the permutations of arr:\n",
    "[1,2,3], [1,3,2], [2, 1, 3], [2, 3, 1], [3,1,2], [3,2,1].\n",
    "\n",
    "The next permutation of an array of integers is the next lexicographically greater\n",
    "permutation of its integer. More formally, if all the permutations of the array are\n",
    "sorted in one container according to their lexicographical order, then the next\n",
    "permutation of that array is the permutation that follows it in the sorted container.\n",
    "\n",
    "If such an arrangement is not possible, the array must be rearranged as the\n",
    "lowest possible order (i.e., sorted in ascending order).\n",
    "\n",
    "● For example, the next permutation of arr = [1,2,3] is [1,3,2].\n",
    "● Similarly, the next permutation of arr = [2,3,1] is [3,1,2].\n",
    "● While the next permutation of arr = [3,2,1] is [1,2,3] because [3,2,1] does not\n",
    "have a lexicographical larger rearrangement.\n",
    "\n",
    "Given an array of integers nums, find the next permutation of nums.\n",
    "The replacement must be in place and use only constant extra memory.\n",
    "\n",
    "**Example 1:**\n",
    "Input: nums = [1,2,3]\n",
    "Output: [1,3,2]\n"
   ]
  },
  {
   "cell_type": "code",
   "execution_count": 34,
   "id": "04c6c75b",
   "metadata": {
    "ExecuteTime": {
     "end_time": "2023-06-02T17:21:12.562186Z",
     "start_time": "2023-06-02T17:21:12.534187Z"
    }
   },
   "outputs": [
    {
     "name": "stdout",
     "output_type": "stream",
     "text": [
      "[1, 3, 2]\n",
      "[1, 3, 4, 2]\n"
     ]
    }
   ],
   "source": [
    "def next_perm(nums):\n",
    "    for curr in reversed(range(0, len(nums) - 1)):\n",
    "        if nums[curr] >= nums[curr + 1]:\n",
    "            continue\n",
    "        next = curr + 1\n",
    "        while next < len(nums) and nums[next] > nums[curr]:\n",
    "            next += 1\n",
    "        nums[curr], nums[next - 1] = nums[next - 1], nums[curr]\n",
    "        nums[curr+1:] = reversed(nums[curr+1:])\n",
    "        return nums\n",
    "    return nums.sort()\n",
    "\n",
    "\n",
    "#case1\n",
    "print(next_perm([1,2,3]))\n",
    "\n",
    "#case2\n",
    "print(next_perm([1,3,2,4]))\n",
    "\n"
   ]
  },
  {
   "cell_type": "code",
   "execution_count": null,
   "id": "96b458c9",
   "metadata": {},
   "outputs": [],
   "source": []
  },
  {
   "cell_type": "code",
   "execution_count": null,
   "id": "9c9f83fa",
   "metadata": {},
   "outputs": [],
   "source": [
    "Question 4\n",
    "Given a sorted array of distinct integers and a target value, return the index if the\n",
    "target is found. If not, return the index where it would be if it were inserted in\n",
    "order.\n",
    "\n",
    "You must write an algorithm with O(log n) runtime complexity.\n",
    "\n",
    "Example 1:\n",
    "Input: nums = [1,3,5,6], target = 5\n",
    "Output: 2"
   ]
  },
  {
   "cell_type": "code",
   "execution_count": 3,
   "id": "df324342",
   "metadata": {
    "ExecuteTime": {
     "end_time": "2023-06-02T03:44:33.469440Z",
     "start_time": "2023-06-02T03:44:33.450442Z"
    }
   },
   "outputs": [
    {
     "name": "stdout",
     "output_type": "stream",
     "text": [
      "2\n",
      "8\n"
     ]
    }
   ],
   "source": [
    "#Ans:\n",
    "\n",
    "def find_pos(arr, n):\n",
    "    l=0\n",
    "    r=len(arr)-1\n",
    "    m= (l+r) //2\n",
    "    while l<=r:\n",
    "        if n==arr[m]:\n",
    "            return m\n",
    "        elif n>arr[m]:\n",
    "            l=m+1\n",
    "        elif n<arr[m]:\n",
    "            r=m-1\n",
    "        m=(l+r) //2\n",
    "    return l\n",
    "\n",
    "\n",
    "\n",
    "#case1\n",
    "print(find_pos([1,3,5,6], 5))\n",
    "\n",
    "\n",
    "#case2\n",
    "\n",
    "print(find_pos([1,3,5,6,7,9,10,11,13,14,34], 12))\n",
    "\n",
    "\n",
    "\n",
    "\n",
    "\n"
   ]
  },
  {
   "cell_type": "code",
   "execution_count": null,
   "id": "883324e4",
   "metadata": {},
   "outputs": [],
   "source": []
  },
  {
   "cell_type": "code",
   "execution_count": null,
   "id": "e5c24ad0",
   "metadata": {},
   "outputs": [],
   "source": []
  },
  {
   "cell_type": "code",
   "execution_count": null,
   "id": "d348495d",
   "metadata": {},
   "outputs": [],
   "source": [
    "<aside>\n",
    "💡 **Question 5**\n",
    "You are given a large integer represented as an integer array digits, where each\n",
    "digits[i] is the ith digit of the integer. The digits are ordered from most significant\n",
    "to least significant in left-to-right order. The large integer does not contain any\n",
    "leading 0's.\n",
    "\n",
    "Increment the large integer by one and return the resulting array of digits.\n",
    "\n",
    "**Example 1:**\n",
    "Input: digits = [1,2,3]\n",
    "Output: [1,2,4]\n",
    "\n",
    "**Explanation:** The array represents the integer 123.\n",
    "Incrementing by one gives 123 + 1 = 124.\n",
    "Thus, the result should be [1,2,4].\n",
    "\n",
    "</aside>"
   ]
  },
  {
   "cell_type": "code",
   "execution_count": 9,
   "id": "cd2519ec",
   "metadata": {
    "ExecuteTime": {
     "end_time": "2023-06-02T03:59:52.335171Z",
     "start_time": "2023-06-02T03:59:52.315139Z"
    }
   },
   "outputs": [
    {
     "name": "stdout",
     "output_type": "stream",
     "text": [
      "[1, 2, 4]\n",
      "[1, 3, 0, 0]\n",
      "[1, 0, 0, 0, 0]\n"
     ]
    }
   ],
   "source": [
    "def Increment_largedigit(digs):\n",
    "    for i in range(len(digs)-1, 0, -1):\n",
    "        if digs[i]==9:\n",
    "            digs[i]=0\n",
    "        else:\n",
    "            digs[i] += 1\n",
    "            return digs\n",
    "    new_digs= [0] * (len(digs)+1)\n",
    "    new_digs[0]=1\n",
    "    return new_digs\n",
    "\n",
    "\n",
    "\n",
    "#case1\n",
    "\n",
    "print(Increment_largedigit([1,2,3]))\n",
    "\n",
    "#case2\n",
    "print(Increment_largedigit([1,2,9,9]))\n",
    "\n",
    "#case3\n",
    "print(Increment_largedigit([9,9,9,9]))\n",
    "    "
   ]
  },
  {
   "cell_type": "code",
   "execution_count": null,
   "id": "f7299fc8",
   "metadata": {},
   "outputs": [],
   "source": []
  },
  {
   "cell_type": "code",
   "execution_count": null,
   "id": "235ae534",
   "metadata": {},
   "outputs": [],
   "source": [
    "Question 6\n",
    "Given a non-empty array of integers nums, every element appears twice except\n",
    "for one. Find that single one.\n",
    "\n",
    "You must implement a solution with a linear runtime complexity and use only\n",
    "constant extra space.\n",
    "\n",
    "Example 1:\n",
    "Input: nums = [2,2,1]\n",
    "Output: 1"
   ]
  },
  {
   "cell_type": "code",
   "execution_count": 16,
   "id": "bc858351",
   "metadata": {
    "ExecuteTime": {
     "end_time": "2023-06-02T04:20:57.654152Z",
     "start_time": "2023-06-02T04:20:57.630146Z"
    }
   },
   "outputs": [
    {
     "name": "stdout",
     "output_type": "stream",
     "text": [
      "1\n",
      "8\n"
     ]
    }
   ],
   "source": [
    "#Ans:\n",
    "\n",
    "def Find_single(nums):\n",
    "    s=[]\n",
    "    for i in nums:\n",
    "        if i in s:\n",
    "            s.remove(i)\n",
    "        else:\n",
    "            s.append(i)\n",
    "    return s[0]\n",
    "\n",
    "\n",
    "\n",
    "#case1\n",
    "print(Find_single([2,2,1]))\n",
    "\n",
    "#case2\n",
    "print(Find_single([2,2,1,1,5,5,6,7,8,7,6]))\n",
    "\n"
   ]
  },
  {
   "cell_type": "code",
   "execution_count": null,
   "id": "99bd4cf5",
   "metadata": {},
   "outputs": [],
   "source": []
  },
  {
   "cell_type": "code",
   "execution_count": null,
   "id": "b38e2650",
   "metadata": {},
   "outputs": [],
   "source": []
  },
  {
   "cell_type": "code",
   "execution_count": null,
   "id": "f79c2f17",
   "metadata": {},
   "outputs": [],
   "source": []
  },
  {
   "cell_type": "code",
   "execution_count": null,
   "id": "d497a7ad",
   "metadata": {},
   "outputs": [],
   "source": []
  },
  {
   "cell_type": "code",
   "execution_count": null,
   "id": "83131c5e",
   "metadata": {},
   "outputs": [],
   "source": [
    "Question 8\n",
    "Given an array of meeting time intervals where intervals[i] = [starti, endi],\n",
    "determine if a person could attend all meetings.\n",
    "\n",
    "Example 1:\n",
    "Input: intervals = [[0,30],[5,10],[15,20]]\n",
    "Output: false"
   ]
  },
  {
   "cell_type": "code",
   "execution_count": 19,
   "id": "89dba648",
   "metadata": {
    "ExecuteTime": {
     "end_time": "2023-06-02T04:39:11.885574Z",
     "start_time": "2023-06-02T04:39:11.869604Z"
    }
   },
   "outputs": [
    {
     "name": "stdout",
     "output_type": "stream",
     "text": [
      "False\n",
      "True\n"
     ]
    }
   ],
   "source": [
    "#Ans:\n",
    "\n",
    "def intervals(time):\n",
    "    time= sorted(time)\n",
    "    for i in range(len(time)-1):\n",
    "        if time[i][1] > time[i+1][0]:\n",
    "            return False\n",
    "    return True\n",
    "\n",
    "\n",
    "#case1\n",
    "print(intervals([[0,30],[5,10],[15,20]]))\n",
    "\n",
    "#case2\n",
    "print(intervals([[0,4],[5,10],[15,20]]))"
   ]
  },
  {
   "cell_type": "code",
   "execution_count": null,
   "id": "164667bc",
   "metadata": {},
   "outputs": [],
   "source": []
  },
  {
   "cell_type": "code",
   "execution_count": null,
   "id": "b9e108fc",
   "metadata": {},
   "outputs": [],
   "source": []
  },
  {
   "cell_type": "code",
   "execution_count": null,
   "id": "d5ce1904",
   "metadata": {},
   "outputs": [],
   "source": []
  }
 ],
 "metadata": {
  "hide_input": false,
  "kernelspec": {
   "display_name": "Python 3",
   "language": "python",
   "name": "python3"
  },
  "language_info": {
   "codemirror_mode": {
    "name": "ipython",
    "version": 3
   },
   "file_extension": ".py",
   "mimetype": "text/x-python",
   "name": "python",
   "nbconvert_exporter": "python",
   "pygments_lexer": "ipython3",
   "version": "3.8.8"
  },
  "toc": {
   "base_numbering": 1,
   "nav_menu": {},
   "number_sections": true,
   "sideBar": true,
   "skip_h1_title": false,
   "title_cell": "Table of Contents",
   "title_sidebar": "Contents",
   "toc_cell": false,
   "toc_position": {},
   "toc_section_display": true,
   "toc_window_display": false
  }
 },
 "nbformat": 4,
 "nbformat_minor": 5
}
