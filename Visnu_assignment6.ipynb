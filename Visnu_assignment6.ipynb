{
 "cells": [
  {
   "cell_type": "code",
   "execution_count": null,
   "id": "cc288652",
   "metadata": {},
   "outputs": [],
   "source": [
    "<aside>\n",
    "💡 **Question 2**\n",
    "\n",
    "You are given an m x n integer matrix matrix with the following two properties:\n",
    "\n",
    "- Each row is sorted in non-decreasing order.\n",
    "- The first integer of each row is greater than the last integer of the previous row.\n",
    "\n",
    "Given an integer target, return true *if* target *is in* matrix *or* false *otherwise*.\n",
    "\n",
    "You must write a solution in O(log(m * n)) time complexity.\n",
    "\n",
    "</aside>"
   ]
  },
  {
   "cell_type": "code",
   "execution_count": 3,
   "id": "8977f435",
   "metadata": {
    "ExecuteTime": {
     "end_time": "2023-06-04T09:19:06.078690Z",
     "start_time": "2023-06-04T09:19:06.067687Z"
    }
   },
   "outputs": [
    {
     "name": "stdout",
     "output_type": "stream",
     "text": [
      "True\n",
      "False\n"
     ]
    }
   ],
   "source": [
    "def find_target(mat, tar):\n",
    "    m=len(mat)\n",
    "    n=len(mat[0])\n",
    "    if mat[m-1][n-1]<tar or tar<mat[0][0]:\n",
    "        return False\n",
    "    for i in range(m):\n",
    "        if mat[i][n-1] >=tar:\n",
    "            r=i\n",
    "            break\n",
    "    for j in range(n):\n",
    "        if mat[r][j]==tar:\n",
    "            return True\n",
    "    return False\n",
    "\n",
    "\n",
    "\n",
    "#case1\n",
    "print(find_target([[1,3,5,7],[10,11,16,20],[23,30,34,60]], 3))\n",
    "\n",
    "#case2\n",
    "print(find_target([[1,3,5,7],[10,11,16,20],[23,30,34,60]], -1))"
   ]
  },
  {
   "cell_type": "code",
   "execution_count": null,
   "id": "89c44539",
   "metadata": {},
   "outputs": [],
   "source": []
  },
  {
   "cell_type": "code",
   "execution_count": null,
   "id": "6d43b4c0",
   "metadata": {},
   "outputs": [],
   "source": []
  },
  {
   "cell_type": "code",
   "execution_count": null,
   "id": "12af51cf",
   "metadata": {},
   "outputs": [],
   "source": [
    "<aside>\n",
    "💡 **Question 3**\n",
    "\n",
    "Given an array of integers arr, return *true if and only if it is a valid mountain array*.\n",
    "\n",
    "Recall that arr is a mountain array if and only if:\n",
    "\n",
    "- arr.length >= 3\n",
    "- There exists some i with 0 < i < arr.length - 1 such that:\n",
    "    - arr[0] < arr[1] < ... < arr[i - 1] < arr[i]\n",
    "    - arr[i] > arr[i + 1] > ... > arr[arr.length - 1]\n",
    "</aside>"
   ]
  },
  {
   "cell_type": "code",
   "execution_count": 5,
   "id": "19576984",
   "metadata": {
    "ExecuteTime": {
     "end_time": "2023-06-04T09:41:24.495126Z",
     "start_time": "2023-06-04T09:41:24.471130Z"
    }
   },
   "outputs": [
    {
     "name": "stdout",
     "output_type": "stream",
     "text": [
      "False\n",
      "True\n"
     ]
    }
   ],
   "source": [
    "#Ans:\n",
    "\n",
    "def check_moun(arr):\n",
    "    if len(arr)<3:\n",
    "        return False\n",
    "    for i in range(len(arr)-1):\n",
    "        if arr[i]==arr[i+1]:\n",
    "            return False\n",
    "        elif arr[i]>arr[i+1]:\n",
    "            if i==0:\n",
    "                return False\n",
    "            for j in range(i+1, len(arr)-1):\n",
    "                if arr[j]<=arr[j+1]:\n",
    "                    return False\n",
    "            return True              \n",
    "    return False\n",
    "\n",
    "\n",
    "\n",
    "\n",
    "print(check_moun([1,2,3,4]))\n",
    "\n",
    "\n",
    "print(check_moun([1,2,3,6,9,7,5,4]))\n",
    "\n"
   ]
  },
  {
   "cell_type": "code",
   "execution_count": null,
   "id": "2ab58126",
   "metadata": {},
   "outputs": [],
   "source": []
  },
  {
   "cell_type": "code",
   "execution_count": null,
   "id": "dd9fb946",
   "metadata": {},
   "outputs": [],
   "source": []
  },
  {
   "cell_type": "code",
   "execution_count": null,
   "id": "8c0172b3",
   "metadata": {},
   "outputs": [],
   "source": [
    "<aside>\n",
    "💡 **Question 4**\n",
    "\n",
    "Given a binary array nums, return *the maximum length of a contiguous subarray with an equal number of* 0 *and* 1.\n",
    "\n",
    "**Example 1:**\n",
    "\n",
    "**Input:** nums = [0,1]\n",
    "\n",
    "**Output:** 2\n",
    "\n",
    "**Explanation:**\n",
    "\n",
    "[0, 1] is the longest contiguous subarray with an equal number of 0 and 1.\n",
    "\n",
    "</aside>\n"
   ]
  },
  {
   "cell_type": "code",
   "execution_count": null,
   "id": "ef25e4f6",
   "metadata": {},
   "outputs": [],
   "source": [
    "#Ans:\n",
    "\n",
    "def max_subarray(arr):\n",
    "    if arr.count(0)+arr.count(1)==len(arr):\n",
    "        return len(arr)\n",
    "    "
   ]
  },
  {
   "cell_type": "code",
   "execution_count": null,
   "id": "f7380d85",
   "metadata": {},
   "outputs": [],
   "source": []
  },
  {
   "cell_type": "code",
   "execution_count": null,
   "id": "8bc186ea",
   "metadata": {},
   "outputs": [],
   "source": []
  },
  {
   "cell_type": "code",
   "execution_count": null,
   "id": "a3a675f0",
   "metadata": {},
   "outputs": [],
   "source": [
    "<aside>\n",
    "💡 **Question 7**\n",
    "\n",
    "Given a positive integer n, generate an n x n matrix filled with elements from 1 to n2 in spiral order.\n",
    "\n",
    "</aside>"
   ]
  },
  {
   "cell_type": "code",
   "execution_count": 3,
   "id": "5ae9a389",
   "metadata": {
    "ExecuteTime": {
     "end_time": "2023-06-06T09:48:41.322708Z",
     "start_time": "2023-06-06T09:48:41.292711Z"
    }
   },
   "outputs": [
    {
     "name": "stdout",
     "output_type": "stream",
     "text": [
      "[[1, 2, 3], [8, 9, 4], [7, 6, 5]]\n"
     ]
    }
   ],
   "source": [
    "def generateMatrix(n):\n",
    "        r1 = 0\n",
    "        r2 = n -1 \n",
    "        c1 = 0\n",
    "        c2 = n -1\n",
    "        \n",
    "        res = [[0 for i in range(n)] for i in range(n)]\n",
    "        k = 1\n",
    "        while(r1<=r2 and c1 <= c2):\n",
    "            for i in range(r1,r2+1):\n",
    "                res[c1][i] = k\n",
    "                k+=1\n",
    "\n",
    "            for i in range(c1+1,c2+1):\n",
    "                res[i][r2]=k\n",
    "                k+=1\n",
    "\n",
    "            for i in range(r2-1,r1-1,-1):\n",
    "                res[c2][i] = k\n",
    "                k+=1\n",
    "\n",
    "            for i in range(c2-1,c1,-1):\n",
    "                res[i][r1] = k\n",
    "                k+=1\n",
    "\n",
    "            r1+=1\n",
    "            c1+=1\n",
    "            c2-=1\n",
    "            r2-=1\n",
    "            \n",
    "        return res\n",
    "    \n",
    "    \n",
    "print(generateMatrix(3))"
   ]
  },
  {
   "cell_type": "code",
   "execution_count": null,
   "id": "0d5bfaa1",
   "metadata": {},
   "outputs": [],
   "source": []
  },
  {
   "cell_type": "code",
   "execution_count": null,
   "id": "8213bb48",
   "metadata": {},
   "outputs": [],
   "source": []
  },
  {
   "cell_type": "code",
   "execution_count": null,
   "id": "b34238ec",
   "metadata": {},
   "outputs": [],
   "source": [
    "<aside>\n",
    "💡 **Question 8**\n",
    "\n",
    "Given two [sparse matrices](https://en.wikipedia.org/wiki/Sparse_matrix) mat1 of size m x k and mat2 of size k x n, return the result of mat1 x mat2. You may assume that multiplication is always possible.\n",
    "\n",
    "</aside>"
   ]
  },
  {
   "cell_type": "code",
   "execution_count": 11,
   "id": "2ab07f92",
   "metadata": {
    "ExecuteTime": {
     "end_time": "2023-06-06T14:07:07.607937Z",
     "start_time": "2023-06-06T14:07:07.596935Z"
    }
   },
   "outputs": [
    {
     "name": "stdout",
     "output_type": "stream",
     "text": [
      "[[330, 396, 462], [726, 891, 1056]]\n"
     ]
    }
   ],
   "source": [
    "def mat_multiply(m1,m2, s1, s2):\n",
    "    x=s1[0]\n",
    "    y=s2[1]\n",
    "    res=[[0]*y for i in range(x)]\n",
    "    for i in range(x):\n",
    "        for j in range(y):\n",
    "            for k in range(y):\n",
    "                res[i][j] += m1[i][k]* m2[k][j]\n",
    "    return res\n",
    "    \n",
    "    \n",
    "    \n",
    "    \n",
    "    \n",
    "a= [[1,2,3],[4,5,6]]\n",
    "b=[[11,22,33],[44,55,66], [77,88,99]]\n",
    "\n",
    "x=[len(a), len(a[0])]\n",
    "y=[len(b), len(b[0])]\n",
    "print(mat_multiply(a,b,x,y))"
   ]
  },
  {
   "cell_type": "code",
   "execution_count": null,
   "id": "bb3f1b80",
   "metadata": {},
   "outputs": [],
   "source": []
  }
 ],
 "metadata": {
  "hide_input": false,
  "kernelspec": {
   "display_name": "Python 3",
   "language": "python",
   "name": "python3"
  },
  "language_info": {
   "codemirror_mode": {
    "name": "ipython",
    "version": 3
   },
   "file_extension": ".py",
   "mimetype": "text/x-python",
   "name": "python",
   "nbconvert_exporter": "python",
   "pygments_lexer": "ipython3",
   "version": "3.8.8"
  },
  "toc": {
   "base_numbering": 1,
   "nav_menu": {},
   "number_sections": true,
   "sideBar": true,
   "skip_h1_title": false,
   "title_cell": "Table of Contents",
   "title_sidebar": "Contents",
   "toc_cell": false,
   "toc_position": {},
   "toc_section_display": true,
   "toc_window_display": false
  }
 },
 "nbformat": 4,
 "nbformat_minor": 5
}
