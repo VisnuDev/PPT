{
 "cells": [
  {
   "cell_type": "code",
   "execution_count": null,
   "id": "9390aafd",
   "metadata": {},
   "outputs": [],
   "source": [
    "Q1\n",
    "💡 Given three integer arrays arr1, arr2 and arr3 **sorted** in **strictly increasing** order, return a sorted array of **only** the integers that appeared in **all** three arrays.\n",
    "\n",
    "**Example 1:**\n",
    "\n",
    "Input: arr1 = [1,2,3,4,5], arr2 = [1,2,5,7,9], arr3 = [1,3,4,5,8]\n",
    "\n",
    "Output: [1,5]\n",
    "\n",
    "**Explanation:** Only 1 and 5 appeared in the three arrays.\n",
    "\n",
    "</aside>"
   ]
  },
  {
   "cell_type": "code",
   "execution_count": 7,
   "id": "9c56fcd1",
   "metadata": {
    "ExecuteTime": {
     "end_time": "2023-06-01T03:54:27.955113Z",
     "start_time": "2023-06-01T03:54:27.928079Z"
    }
   },
   "outputs": [
    {
     "name": "stdout",
     "output_type": "stream",
     "text": [
      "[1, 5]\n"
     ]
    }
   ],
   "source": [
    "#Ans:\n",
    "\n",
    "def common_num(arr1, arr2, arr3):\n",
    "    a=b=c=0\n",
    "    com=[]\n",
    "    while a<len(arr1) and b<len(arr2) and c<len(arr3):\n",
    "        if arr1[a]==arr2[b]==arr3[c]:\n",
    "            com.append(arr1[a])\n",
    "            a+=1\n",
    "            b+=1\n",
    "            c+=1\n",
    "        elif arr1[a] < arr2[b]:\n",
    "            a+=1\n",
    "        elif arr2[b] < arr3[c]:\n",
    "            b+=1\n",
    "        else:\n",
    "            c+=1\n",
    "            \n",
    "    return com\n",
    "\n",
    "\n",
    "\n",
    "print(common_num(arr1= [1,2,3,4,5], arr2= [1,2,5,7,9], arr3=[1,3,4,5,8]))\n",
    "\n",
    "    "
   ]
  },
  {
   "cell_type": "code",
   "execution_count": null,
   "id": "75213050",
   "metadata": {},
   "outputs": [],
   "source": []
  },
  {
   "cell_type": "code",
   "execution_count": null,
   "id": "62e7e2ca",
   "metadata": {},
   "outputs": [],
   "source": []
  },
  {
   "cell_type": "code",
   "execution_count": null,
   "id": "ad9b16be",
   "metadata": {},
   "outputs": [],
   "source": [
    "\n",
    "💡 **Question 2**\n",
    "\n",
    "Given two **0-indexed** integer arrays nums1 and nums2, return *a list* answer *of size* 2 *where:*\n",
    "\n",
    "- answer[0] *is a list of all **distinct** integers in* nums1 *which are **not** present in* nums2*.*\n",
    "- answer[1] *is a list of all **distinct** integers in* nums2 *which are **not** present in* nums1.\n",
    "\n",
    "**Note** that the integers in the lists may be returned in **any** order.\n",
    "\n",
    "**Example 1:**\n",
    "\n",
    "**Input:** nums1 = [1,2,3], nums2 = [2,4,6]\n",
    "\n",
    "**Output:** [[1,3],[4,6]]\n",
    "\n",
    "**Explanation:**\n",
    "\n",
    "For nums1, nums1[1] = 2 is present at index 0 of nums2, whereas nums1[0] = 1 and nums1[2] = 3 are not present in nums2. Therefore, answer[0] = [1,3].\n",
    "\n",
    "For nums2, nums2[0] = 2 is present at index 1 of nums1, whereas nums2[1] = 4 and nums2[2] = 6 are not present in nums2. Therefore, answer[1] = [4,6].\n",
    "\n",
    "</aside>"
   ]
  },
  {
   "cell_type": "code",
   "execution_count": 26,
   "id": "66a9e6eb",
   "metadata": {
    "ExecuteTime": {
     "end_time": "2023-06-01T04:39:13.000639Z",
     "start_time": "2023-06-01T04:39:12.984640Z"
    }
   },
   "outputs": [
    {
     "name": "stdout",
     "output_type": "stream",
     "text": [
      "[[1, 3], [4, 6]]\n"
     ]
    }
   ],
   "source": [
    "#Ans:\n",
    "\n",
    "def distint_val(arr1, arr2):\n",
    "    uniq=[[],[]]\n",
    "    arr1 = list(set(arr1))\n",
    "    arr2 = list(set(arr2))\n",
    "    for i in range(len(arr1)):\n",
    "        if arr1[i] in arr2:\n",
    "            arr2.remove(arr1[i])\n",
    "        else:\n",
    "            uniq[0].append(arr1[i])\n",
    "    \n",
    "    uniq[1]=arr2\n",
    "    return uniq\n",
    "\n",
    "\n",
    "print(distint_val([1,2,3], [2,4,6]))\n",
    "            \n",
    "    "
   ]
  },
  {
   "cell_type": "code",
   "execution_count": null,
   "id": "8c4a6db5",
   "metadata": {},
   "outputs": [],
   "source": []
  },
  {
   "cell_type": "code",
   "execution_count": null,
   "id": "00894ab9",
   "metadata": {},
   "outputs": [],
   "source": []
  },
  {
   "cell_type": "code",
   "execution_count": null,
   "id": "39ae81d4",
   "metadata": {},
   "outputs": [],
   "source": [
    " **Question 3**\n",
    "Given a 2D integer array matrix, return *the **transpose** of* matrix.\n",
    "\n",
    "The **transpose** of a matrix is the matrix flipped over its main diagonal, switching the matrix's row and column indices.\n",
    "\n",
    "**Example 1:**\n",
    "\n",
    "Input: matrix = [[1,2,3],[4,5,6],[7,8,9]]\n",
    "\n",
    "Output: [[1,4,7],[2,5,8],[3,6,9]]\n",
    "\n",
    "</aside>"
   ]
  },
  {
   "cell_type": "code",
   "execution_count": 72,
   "id": "93d43546",
   "metadata": {
    "ExecuteTime": {
     "end_time": "2023-06-02T19:17:34.255854Z",
     "start_time": "2023-06-02T19:17:34.234820Z"
    }
   },
   "outputs": [
    {
     "name": "stdout",
     "output_type": "stream",
     "text": [
      "[[1, 4, 7], [2, 5, 8], [3, 6, 9]]\n"
     ]
    }
   ],
   "source": [
    "#Ans:\n",
    "\n",
    "\n",
    "def transpose(mat):\n",
    "    r= len(mat)\n",
    "    c=len(mat[0])\n",
    "    trans=[[None]*c for x in range(r)]\n",
    "    for i in range(r):\n",
    "        for j in range(c):\n",
    "            trans[i][j]=mat[j][i]\n",
    "    return trans\n",
    "\n",
    "\n",
    "matrix = [[1,2,3],[4,5,6],[7,8,9]]\n",
    "\n",
    "print(transpose(matrix))\n",
    "\n",
    "\n",
    "    "
   ]
  },
  {
   "cell_type": "code",
   "execution_count": null,
   "id": "1958ba82",
   "metadata": {},
   "outputs": [],
   "source": []
  },
  {
   "cell_type": "code",
   "execution_count": null,
   "id": "c1d4cb2f",
   "metadata": {},
   "outputs": [],
   "source": []
  },
  {
   "cell_type": "code",
   "execution_count": null,
   "id": "5b30fdcc",
   "metadata": {},
   "outputs": [],
   "source": [
    "<aside>\n",
    "💡 **Question 4**\n",
    "Given an integer array nums of 2n integers, group these integers into n pairs (a1, b1), (a2, b2), ..., (an, bn) such that the sum of min(ai, bi) for all i is **maximized**. Return *the maximized sum*.\n",
    "\n",
    "**Example 1:**\n",
    "\n",
    "Input: nums = [1,4,3,2]\n",
    "\n",
    "Output: 4\n",
    "\n",
    "**Explanation:** All possible pairings (ignoring the ordering of elements) are:\n",
    "\n",
    "1. (1, 4), (2, 3) -> min(1, 4) + min(2, 3) = 1 + 2 = 3\n",
    "\n",
    "2. (1, 3), (2, 4) -> min(1, 3) + min(2, 4) = 1 + 2 = 3\n",
    "\n",
    "3. (1, 2), (3, 4) -> min(1, 2) + min(3, 4) = 1 + 3 = 4\n",
    "\n",
    "So the maximum possible sum is 4.\n",
    "\n",
    "</aside>"
   ]
  },
  {
   "cell_type": "code",
   "execution_count": 88,
   "id": "f41529d2",
   "metadata": {
    "ExecuteTime": {
     "end_time": "2023-06-02T19:39:45.535216Z",
     "start_time": "2023-06-02T19:39:45.525226Z"
    }
   },
   "outputs": [
    {
     "name": "stdout",
     "output_type": "stream",
     "text": [
      "4\n",
      "27\n"
     ]
    }
   ],
   "source": [
    "#Ans:\n",
    "\n",
    "def maxi_sum(nums):\n",
    "    nums.sort()\n",
    "    i=0\n",
    "    sums=0\n",
    "    for i in range(0, len(nums), 2):\n",
    "        sums += min(nums[i], nums[i+1])\n",
    "    return sums\n",
    "\n",
    "\n",
    "print(maxi_sum([1,4,3,2]))\n",
    "\n",
    "print(maxi_sum([1,4,3,2,6,7,8,9,8,9]))\n",
    "        \n",
    "        \n",
    "        "
   ]
  },
  {
   "cell_type": "code",
   "execution_count": null,
   "id": "6d8a6a54",
   "metadata": {},
   "outputs": [],
   "source": []
  },
  {
   "cell_type": "code",
   "execution_count": null,
   "id": "47446071",
   "metadata": {},
   "outputs": [],
   "source": []
  },
  {
   "cell_type": "code",
   "execution_count": null,
   "id": "b9dd61ab",
   "metadata": {},
   "outputs": [],
   "source": [
    "\n",
    "**Question 5**\n",
    "You have n coins and you want to build a staircase with these coins. The staircase consists of k rows where the ith row has exactly i coins. The last row of the staircase **may be** incomplete.\n",
    "\n",
    "Given the integer n, return *the number of **complete rows** of the staircase you will build*.\n",
    "\n"
   ]
  },
  {
   "cell_type": "code",
   "execution_count": 96,
   "id": "e1e5559e",
   "metadata": {
    "ExecuteTime": {
     "end_time": "2023-06-02T19:51:08.557129Z",
     "start_time": "2023-06-02T19:51:08.539093Z"
    }
   },
   "outputs": [
    {
     "name": "stdout",
     "output_type": "stream",
     "text": [
      "4\n",
      "2\n"
     ]
    }
   ],
   "source": [
    "#Ans:\n",
    "\n",
    "def staircase(n):\n",
    "    i=1\n",
    "    c=0\n",
    "    while n>=i:\n",
    "        n -= i\n",
    "        i += 1\n",
    "        c += 1\n",
    "    \n",
    "    return c\n",
    "\n",
    "#case1\n",
    "print(staircase(10))\n",
    "\n",
    "\n",
    "#case2\n",
    "print(staircase(5))"
   ]
  },
  {
   "cell_type": "code",
   "execution_count": null,
   "id": "3713d181",
   "metadata": {},
   "outputs": [],
   "source": []
  },
  {
   "cell_type": "code",
   "execution_count": null,
   "id": "bd382b25",
   "metadata": {},
   "outputs": [],
   "source": []
  },
  {
   "cell_type": "code",
   "execution_count": null,
   "id": "5e047ac4",
   "metadata": {},
   "outputs": [],
   "source": [
    "<aside>\n",
    "💡 **Question 6**\n",
    "Given an integer array nums sorted in **non-decreasing** order, return *an array of **the squares of each number** sorted in non-decreasing order*.\n",
    "\n",
    "**Example 1:**\n",
    "\n",
    "Input: nums = [-4,-1,0,3,10]\n",
    "\n",
    "Output: [0,1,9,16,100]\n",
    "\n",
    "**Explanation:** After squaring, the array becomes [16,1,0,9,100].\n",
    "After sorting, it becomes [0,1,9,16,100]\n",
    "\n",
    "</aside>"
   ]
  },
  {
   "cell_type": "code",
   "execution_count": 101,
   "id": "d30ba1ee",
   "metadata": {
    "ExecuteTime": {
     "end_time": "2023-06-02T19:55:40.304274Z",
     "start_time": "2023-06-02T19:55:40.290280Z"
    }
   },
   "outputs": [
    {
     "name": "stdout",
     "output_type": "stream",
     "text": [
      "[0, 1, 9, 16, 100]\n"
     ]
    }
   ],
   "source": [
    "#Ans:\n",
    "\n",
    "def squares(nums):\n",
    "    for i in range(len(nums)):\n",
    "        nums[i] = nums[i] **2\n",
    "    return sorted(nums)\n",
    "\n",
    "\n",
    "\n",
    "print(squares([-4,-1,0,3,10]))"
   ]
  },
  {
   "cell_type": "code",
   "execution_count": null,
   "id": "a4fa928c",
   "metadata": {},
   "outputs": [],
   "source": []
  },
  {
   "cell_type": "code",
   "execution_count": null,
   "id": "8fdbc6e2",
   "metadata": {},
   "outputs": [],
   "source": []
  },
  {
   "cell_type": "code",
   "execution_count": null,
   "id": "88dfd744",
   "metadata": {},
   "outputs": [],
   "source": [
    "<aside>\n",
    "💡 **Question 7**\n",
    "You are given an m x n matrix M initialized with all 0's and an array of operations ops, where ops[i] = [ai, bi] means M[x][y] should be incremented by one for all 0 <= x < ai and 0 <= y < bi.\n",
    "\n",
    "Count and return *the number of maximum integers in the matrix after performing all the operations*\n",
    "\n"
   ]
  },
  {
   "cell_type": "code",
   "execution_count": 118,
   "id": "f1da27f8",
   "metadata": {
    "ExecuteTime": {
     "end_time": "2023-06-03T03:51:43.312765Z",
     "start_time": "2023-06-03T03:51:43.302763Z"
    }
   },
   "outputs": [
    {
     "name": "stdout",
     "output_type": "stream",
     "text": [
      "4\n"
     ]
    }
   ],
   "source": [
    "#Ans:\n",
    "\n",
    "def matrixops(m, n, ops):\n",
    "    mat=[[0]*m for i in range(n)]\n",
    "    for i in range(len(ops)):\n",
    "        a=ops[i][0]\n",
    "        b=ops[i][1]\n",
    "        for j in range(a):\n",
    "            for k in range(b):\n",
    "                mat[j][k] +=1\n",
    "    freq=dict()\n",
    "    for i in range(m):\n",
    "        for j in range(n):\n",
    "            if mat[i][j] in freq:\n",
    "                freq[mat[i][j]] +=1\n",
    "            else:\n",
    "                freq[mat[i][j]]=1\n",
    "    return freq[max(freq.keys())]\n",
    "            \n",
    "    \n",
    "    \n",
    "    \n",
    "#output\n",
    "print(matrixops(3,3,[[2,2],[3,3]]))"
   ]
  },
  {
   "cell_type": "code",
   "execution_count": null,
   "id": "77878054",
   "metadata": {},
   "outputs": [],
   "source": []
  },
  {
   "cell_type": "code",
   "execution_count": null,
   "id": "d6db6a50",
   "metadata": {},
   "outputs": [],
   "source": []
  },
  {
   "cell_type": "code",
   "execution_count": null,
   "id": "e1f36055",
   "metadata": {},
   "outputs": [],
   "source": [
    "\n",
    "💡 **Question 8**\n",
    "\n",
    "Given the array nums consisting of 2n elements in the form [x1,x2,...,xn,y1,y2,...,yn].\n",
    "\n",
    "*Return the array in the form* [x1,y1,x2,y2,...,xn,yn].\n",
    "\n",
    "**Example 1:**\n",
    "\n",
    "**Input:** nums = [2,5,1,3,4,7], n = 3\n",
    "\n",
    "**Output:** [2,3,5,4,1,7]\n",
    "\n",
    "**Explanation:** Since x1=2, x2=5, x3=1, y1=3, y2=4, y3=7 then the answer is [2,3,5,4,1,7].\n"
   ]
  },
  {
   "cell_type": "code",
   "execution_count": 106,
   "id": "85888ea6",
   "metadata": {
    "ExecuteTime": {
     "end_time": "2023-06-02T20:05:52.311293Z",
     "start_time": "2023-06-02T20:05:52.291267Z"
    }
   },
   "outputs": [
    {
     "name": "stdout",
     "output_type": "stream",
     "text": [
      "[2, 3, 5, 4, 1, 7]\n",
      "[2, 6, 5, 9, 1, 7, 8, 11, 3, 20, 0, 12]\n"
     ]
    }
   ],
   "source": [
    "#Ans\n",
    "\n",
    "def reorder(nums, n):\n",
    "    a=0\n",
    "    b=n\n",
    "    s=[]\n",
    "    while b<len(nums):\n",
    "        s.append(nums[a])\n",
    "        s.append(nums[b])\n",
    "        a+=1\n",
    "        b+=1\n",
    "    return s\n",
    "\n",
    "\n",
    "#case1\n",
    "print(reorder([2,5,1,3,4,7], 3))\n",
    "      \n",
    "    \n",
    "#case2\n",
    "print(reorder([2,5,1,8,3,0,6,9,7,11,20,12], 6))\n",
    "    "
   ]
  },
  {
   "cell_type": "code",
   "execution_count": null,
   "id": "017bf31f",
   "metadata": {},
   "outputs": [],
   "source": []
  }
 ],
 "metadata": {
  "hide_input": false,
  "kernelspec": {
   "display_name": "Python 3",
   "language": "python",
   "name": "python3"
  },
  "language_info": {
   "codemirror_mode": {
    "name": "ipython",
    "version": 3
   },
   "file_extension": ".py",
   "mimetype": "text/x-python",
   "name": "python",
   "nbconvert_exporter": "python",
   "pygments_lexer": "ipython3",
   "version": "3.8.8"
  },
  "toc": {
   "base_numbering": 1,
   "nav_menu": {},
   "number_sections": true,
   "sideBar": true,
   "skip_h1_title": false,
   "title_cell": "Table of Contents",
   "title_sidebar": "Contents",
   "toc_cell": false,
   "toc_position": {},
   "toc_section_display": true,
   "toc_window_display": false
  }
 },
 "nbformat": 4,
 "nbformat_minor": 5
}
