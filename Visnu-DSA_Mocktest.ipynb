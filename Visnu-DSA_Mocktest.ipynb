{
 "cells": [
  {
   "cell_type": "code",
   "execution_count": null,
   "id": "c88f63ae",
   "metadata": {},
   "outputs": [],
   "source": [
    "PPT-assesment DSA\n",
    "\n",
    "Question 1- Move Zeros"
   ]
  },
  {
   "cell_type": "code",
   "execution_count": 3,
   "id": "42489e25",
   "metadata": {
    "ExecuteTime": {
     "end_time": "2023-06-05T14:56:11.755421Z",
     "start_time": "2023-06-05T14:56:11.739420Z"
    }
   },
   "outputs": [
    {
     "name": "stdout",
     "output_type": "stream",
     "text": [
      "[1, 3, 12, 0, 0]\n",
      "[1, 3, 5, 7, 8, 2, 0, 0, 0]\n",
      "[0]\n"
     ]
    }
   ],
   "source": [
    "#Ans:\n",
    "\n",
    "def push_zeros_to_last(values):\n",
    "    c= 0\n",
    "    for i in range(len(values)):\n",
    "        if values[i] != 0:\n",
    "            values[c], values[i] = values[i], values[c]\n",
    "            c +=1\n",
    "    return values\n",
    "\n",
    "\n",
    "#case1\n",
    "\n",
    "print(push_zeros_to_last([0,1,0,3,12]))\n",
    "\n",
    "#case2\n",
    "\n",
    "print(push_zeros_to_last([0,1,0,3,5,7,0,8,2]))\n",
    "\n",
    "#case3\n",
    "print(push_zeros_to_last([0]))\n"
   ]
  },
  {
   "cell_type": "code",
   "execution_count": null,
   "id": "9c194db4",
   "metadata": {},
   "outputs": [],
   "source": []
  },
  {
   "cell_type": "code",
   "execution_count": null,
   "id": "2f2146d9",
   "metadata": {},
   "outputs": [],
   "source": [
    "Question 2- First Unique Character in a String"
   ]
  },
  {
   "cell_type": "code",
   "execution_count": 13,
   "id": "8218831d",
   "metadata": {
    "ExecuteTime": {
     "end_time": "2023-06-05T15:08:41.493215Z",
     "start_time": "2023-06-05T15:08:41.476216Z"
    }
   },
   "outputs": [
    {
     "name": "stdout",
     "output_type": "stream",
     "text": [
      "0\n",
      "2\n",
      "-1\n"
     ]
    }
   ],
   "source": [
    "#Ans:\n",
    "\n",
    "def first_uniq(st):\n",
    "    ch= list(st)\n",
    "    for i in range(len(ch)):\n",
    "        if ch.count(ch[i])==1:\n",
    "            return i\n",
    "    return -1\n",
    "\n",
    "\n",
    "#case1\n",
    "print(first_uniq('leetcode'))\n",
    "\n",
    "#case2\n",
    "print(first_uniq('loveleetcode'))\n",
    "\n",
    "\n",
    "#case3\n",
    "print(first_uniq('aabbcc'))"
   ]
  }
 ],
 "metadata": {
  "hide_input": false,
  "kernelspec": {
   "display_name": "Python 3",
   "language": "python",
   "name": "python3"
  },
  "language_info": {
   "codemirror_mode": {
    "name": "ipython",
    "version": 3
   },
   "file_extension": ".py",
   "mimetype": "text/x-python",
   "name": "python",
   "nbconvert_exporter": "python",
   "pygments_lexer": "ipython3",
   "version": "3.8.8"
  },
  "toc": {
   "base_numbering": 1,
   "nav_menu": {},
   "number_sections": true,
   "sideBar": true,
   "skip_h1_title": false,
   "title_cell": "Table of Contents",
   "title_sidebar": "Contents",
   "toc_cell": false,
   "toc_position": {},
   "toc_section_display": true,
   "toc_window_display": false
  }
 },
 "nbformat": 4,
 "nbformat_minor": 5
}
