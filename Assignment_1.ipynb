{
 "cells": [
  {
   "cell_type": "code",
   "execution_count": null,
   "id": "62ddae91",
   "metadata": {},
   "outputs": [],
   "source": [
    "Q1.** Given an array of integers nums and an integer target, return indices of the two numbers such that they add up to target.\n",
    "\n",
    "You may assume that each input would have exactly one solution, and you may not use the same element twice.\n",
    "\n",
    "You can return the answer in any order.\n",
    "\n",
    "**Example:**\n",
    "Input: nums = [2,7,11,15], target = 9\n",
    "Output0 [0,1]\n",
    "\n",
    "**Explanation:** Because nums[0] + nums[1] == 9, we return [0, 1]\n",
    "\n"
   ]
  },
  {
   "cell_type": "code",
   "execution_count": 4,
   "id": "88ebe3db",
   "metadata": {
    "ExecuteTime": {
     "end_time": "2023-05-29T02:14:21.473055Z",
     "start_time": "2023-05-29T02:14:21.435042Z"
    }
   },
   "outputs": [
    {
     "data": {
      "text/plain": [
       "[0, 6]"
      ]
     },
     "execution_count": 4,
     "metadata": {},
     "output_type": "execute_result"
    }
   ],
   "source": [
    "#Ans:\n",
    "\n",
    "def get_twonum(nums, target):\n",
    "    hashmap = {}\n",
    "    for i, num1 in enumerate(nums):\n",
    "        num2= target - num1\n",
    "        if num2 in hashmap:\n",
    "            return [hashmap[num2], i]\n",
    "        else:\n",
    "            hashmap[num1] = i\n",
    "    return []\n",
    "\n",
    "\n"
   ]
  },
  {
   "cell_type": "code",
   "execution_count": 5,
   "id": "feb7e54d",
   "metadata": {
    "ExecuteTime": {
     "end_time": "2023-05-29T02:15:36.385762Z",
     "start_time": "2023-05-29T02:15:36.371763Z"
    }
   },
   "outputs": [
    {
     "name": "stdout",
     "output_type": "stream",
     "text": [
      "[0, 6]\n",
      "[1, 4]\n"
     ]
    }
   ],
   "source": [
    "#sample case1\n",
    "\n",
    "print(get_twonum([2,11,15,0,5,6,7], 9))\n",
    "\n",
    "#sample case2\n",
    "\n",
    "print(get_twonum([2,11,15,0,5,6,7], 16))"
   ]
  },
  {
   "cell_type": "code",
   "execution_count": null,
   "id": "475e421e",
   "metadata": {},
   "outputs": [],
   "source": []
  },
  {
   "cell_type": "code",
   "execution_count": null,
   "id": "d330884f",
   "metadata": {},
   "outputs": [],
   "source": []
  },
  {
   "cell_type": "code",
   "execution_count": null,
   "id": "34b9503e",
   "metadata": {},
   "outputs": [],
   "source": [
    "<aside>\n",
    "💡 **Q2.** Given an integer array nums and an integer val, remove all occurrences of val in nums in-place. The order of the elements may be changed. Then return the number of elements in nums which are not equal to val.\n",
    "\n",
    "Consider the number of elements in nums which are not equal to val be k, to get accepted, you need to do the following things:\n",
    "\n",
    "- Change the array nums such that the first k elements of nums contain the elements which are not equal to val. The remaining elements of nums are not important as well as the size of nums.\n",
    "- Return k.\n",
    "\n",
    "**Example :**\n",
    "Input: nums = [3,2,2,3], val = 3\n",
    "Output: 2, nums = [2,2,_*,_*]\n",
    "\n",
    "**Explanation:** Your function should return k = 2, with the first two elements of nums being 2. It does not matter what you leave beyond the returned k (hence they are underscores)[\n",
    "\n",
    "</aside>"
   ]
  },
  {
   "cell_type": "code",
   "execution_count": 23,
   "id": "3ade32dd",
   "metadata": {
    "ExecuteTime": {
     "end_time": "2023-05-29T02:36:00.931445Z",
     "start_time": "2023-05-29T02:36:00.909440Z"
    }
   },
   "outputs": [
    {
     "name": "stdout",
     "output_type": "stream",
     "text": [
      "(6, [5, 6, 4, 3, 3, 3, '_', '_', '_', '_'])\n",
      "(2, [3, 3, '_', '_'])\n"
     ]
    }
   ],
   "source": [
    "#Ans:\n",
    "\n",
    "def removeAndOrder(nums, val):\n",
    "    count = 0\n",
    "    for i in range(len(nums)):\n",
    "        if nums[i] == val:\n",
    "            nums[i] ='_'\n",
    "        else:\n",
    "            nums[count], nums[i] = nums[i], nums[count]\n",
    "            count += 1\n",
    "    return count, nums\n",
    "\n",
    "\n",
    "\n",
    "\n",
    "#sample case1\n",
    "print(removeAndOrder([5,6,2,4,2,3,2,3,2,3], 2))\n",
    "\n",
    "#sample case2\n",
    "print(removeAndOrder([3,2,2,3], 2))"
   ]
  },
  {
   "cell_type": "code",
   "execution_count": null,
   "id": "a2f45950",
   "metadata": {},
   "outputs": [],
   "source": []
  },
  {
   "cell_type": "code",
   "execution_count": null,
   "id": "ea9d0669",
   "metadata": {},
   "outputs": [],
   "source": []
  },
  {
   "cell_type": "code",
   "execution_count": null,
   "id": "acc948c6",
   "metadata": {},
   "outputs": [],
   "source": [
    "<aside>\n",
    "💡 **Q3.** Given a sorted array of distinct integers and a target value, return the index if the target is found.\n",
    "If not, return the index where it would be if it were inserted in order.\n",
    "\n",
    "You must write an algorithm with O(log n) runtime complexity.\n",
    "\n",
    "**Example 1:**\n",
    "Input: nums = [1,3,5,6], target = 5\n",
    "\n",
    "Output: 2\n",
    "\n",
    "</aside>"
   ]
  },
  {
   "cell_type": "code",
   "execution_count": 37,
   "id": "ec6eb952",
   "metadata": {
    "ExecuteTime": {
     "end_time": "2023-05-29T02:54:39.984916Z",
     "start_time": "2023-05-29T02:54:39.963910Z"
    }
   },
   "outputs": [
    {
     "name": "stdout",
     "output_type": "stream",
     "text": [
      "8\n",
      "2\n"
     ]
    }
   ],
   "source": [
    "#Ans:\n",
    "def searchforIndex(values, target):\n",
    "    left = 0\n",
    "    right = len(values) - 1\n",
    "    while left <= right:\n",
    "        mid = (left + right) // 2\n",
    "        if values[mid] < target:\n",
    "            left = mid + 1\n",
    "        elif values[mid] > target:\n",
    "            right = mid - 1\n",
    "        else:\n",
    "            return mid\n",
    "    return left\n",
    "    \n",
    "\n",
    "    \n",
    "#case1\n",
    "print(searchforIndex([1,3,4,6,7,8,9,10,12], 11))\n",
    "\n",
    "\n",
    "#case2\n",
    "print(searchforIndex([1,3,5,6], 5))"
   ]
  },
  {
   "cell_type": "code",
   "execution_count": null,
   "id": "b03bbf24",
   "metadata": {},
   "outputs": [],
   "source": []
  },
  {
   "cell_type": "code",
   "execution_count": null,
   "id": "0056f294",
   "metadata": {},
   "outputs": [],
   "source": []
  },
  {
   "cell_type": "code",
   "execution_count": null,
   "id": "8bad7031",
   "metadata": {},
   "outputs": [],
   "source": [
    "<aside>\n",
    "💡 **Q4.** You are given a large integer represented as an integer array digits, where each digits[i] is the ith digit of the integer. The digits are ordered from most significant to least significant in left-to-right order. The large integer does not contain any leading 0's.\n",
    "\n",
    "Increment the large integer by one and return the resulting array of digits.\n",
    "\n",
    "**Example 1:**\n",
    "Input: digits = [1,2,3]\n",
    "Output: [1,2,4]\n",
    "\n",
    "**Explanation:** The array represents the integer 123.\n",
    "\n",
    "Incrementing by one gives 123 + 1 = 124.\n",
    "Thus, the result should be [1,2,4].\n",
    "\n",
    "</aside>"
   ]
  },
  {
   "cell_type": "code",
   "execution_count": 52,
   "id": "03972e3e",
   "metadata": {
    "ExecuteTime": {
     "end_time": "2023-05-29T05:41:03.200145Z",
     "start_time": "2023-05-29T05:41:03.180144Z"
    }
   },
   "outputs": [
    {
     "name": "stdout",
     "output_type": "stream",
     "text": [
      "[1, 2, 4]\n",
      "[2, 0, 0, 0, 0]\n"
     ]
    }
   ],
   "source": [
    "#Ans:\n",
    "\n",
    "def Increment_lastdigit(values):\n",
    "    for i in range(len(values) - 1, -1, -1):\n",
    "        if values[i]== 9:\n",
    "            values[i]=0\n",
    "        else:\n",
    "            values[i] += 1\n",
    "            return values\n",
    "    new_values = [0] * (len(values) + 1)\n",
    "    new_values[0] = 1\n",
    "    return new_values\n",
    "\n",
    "\n",
    "\n",
    "\n",
    "#case1\n",
    "print(Increment_lastdigit([1,2,3]))\n",
    "\n",
    "#case2   \n",
    "print(Increment_lastdigit([1,9,9,9,9]))"
   ]
  },
  {
   "cell_type": "code",
   "execution_count": null,
   "id": "66f8fad7",
   "metadata": {},
   "outputs": [],
   "source": []
  },
  {
   "cell_type": "code",
   "execution_count": null,
   "id": "d122a9c1",
   "metadata": {},
   "outputs": [],
   "source": []
  },
  {
   "cell_type": "code",
   "execution_count": null,
   "id": "a6d8eebd",
   "metadata": {},
   "outputs": [],
   "source": [
    "<aside>\n",
    "💡 **Q5.** You are given two integer arrays nums1 and nums2, sorted in non-decreasing order, and two integers m and n, representing the number of elements in nums1 and nums2 respectively.\n",
    "\n",
    "Merge nums1 and nums2 into a single array sorted in non-decreasing order.\n",
    "\n",
    "The final sorted array should not be returned by the function, but instead be stored inside the array nums1. To accommodate this, nums1 has a length of m + n, where the first m elements denote the elements that should be merged, and the last n elements are set to 0 and should be ignored. nums2 has a length of n.\n",
    "\n",
    "**Example 1:**\n",
    "Input: nums1 = [1,2,3,0,0,0], m = 3, nums2 = [2,5,6], n = 3\n",
    "Output: [1,2,2,3,5,6]\n",
    "\n",
    "**Explanation:** The arrays we are merging are [1,2,3] and [2,5,6].\n",
    "The result of the merge is [1,2,2,3,5,6] with the underlined elements coming from nums1.\n",
    "\n",
    "</aside>"
   ]
  },
  {
   "cell_type": "code",
   "execution_count": 57,
   "id": "9f9e027d",
   "metadata": {
    "ExecuteTime": {
     "end_time": "2023-05-29T06:10:35.148355Z",
     "start_time": "2023-05-29T06:10:35.133351Z"
    }
   },
   "outputs": [
    {
     "data": {
      "text/plain": [
       "[1, 2, 2, 3, 5, 6]"
      ]
     },
     "execution_count": 57,
     "metadata": {},
     "output_type": "execute_result"
    }
   ],
   "source": [
    "#Ans:\n",
    "\n",
    "def merge(nums1, m, nums2, n):\n",
    "    i = m - 1\n",
    "    j = n - 1\n",
    "    k = m + n - 1\n",
    "    while i >= 0 and j >= 0:\n",
    "        if nums2[j] > nums1[i]:\n",
    "            nums1[k] = nums2[j]\n",
    "            j -= 1\n",
    "        else:\n",
    "            nums1[k] = nums1[i]\n",
    "            i -= 1\n",
    "        k -= 1\n",
    "    while j >= 0:\n",
    "        nums1[k] = nums2[j]\n",
    "        j -= 1\n",
    "        k -= 1\n",
    "    return nums1\n",
    "        \n",
    " \n",
    "\n",
    "\n",
    "#case1\n",
    "merge([1,2,3,0,0,0] ,3, [2,5,6], 3)\n"
   ]
  },
  {
   "cell_type": "code",
   "execution_count": null,
   "id": "3be5964f",
   "metadata": {},
   "outputs": [],
   "source": []
  },
  {
   "cell_type": "code",
   "execution_count": null,
   "id": "91362d46",
   "metadata": {},
   "outputs": [],
   "source": []
  },
  {
   "cell_type": "code",
   "execution_count": null,
   "id": "267af2a6",
   "metadata": {},
   "outputs": [],
   "source": [
    "<aside>\n",
    "💡 **Q6.** Given an integer array nums, return true if any value appears at least twice in the array, and return false if every element is distinct.\n",
    "\n",
    "**Example 1:**\n",
    "Input: nums = [1,2,3,1]\n",
    "\n",
    "Output: true\n",
    "\n",
    "</aside>"
   ]
  },
  {
   "cell_type": "code",
   "execution_count": 42,
   "id": "820eb2ce",
   "metadata": {
    "ExecuteTime": {
     "end_time": "2023-05-29T03:03:14.646396Z",
     "start_time": "2023-05-29T03:03:14.637394Z"
    }
   },
   "outputs": [
    {
     "name": "stdout",
     "output_type": "stream",
     "text": [
      "True\n",
      "False\n"
     ]
    }
   ],
   "source": [
    "#Ans:\n",
    "\n",
    "def search_duplicates(num_array):\n",
    "    num_set= set(num_array)\n",
    "    if len(num_array) == len(num_set):\n",
    "        return False\n",
    "    else:\n",
    "        return True\n",
    "    \n",
    "\n",
    "#case1\n",
    "print(search_duplicates([1,2,3,1]))\n",
    "\n",
    "#case 2\n",
    "print(search_duplicates([1,2,3,4,5]))"
   ]
  },
  {
   "cell_type": "code",
   "execution_count": null,
   "id": "0ecbf338",
   "metadata": {},
   "outputs": [],
   "source": []
  },
  {
   "cell_type": "code",
   "execution_count": null,
   "id": "444649d4",
   "metadata": {},
   "outputs": [],
   "source": []
  },
  {
   "cell_type": "code",
   "execution_count": null,
   "id": "431656f1",
   "metadata": {},
   "outputs": [],
   "source": [
    "<aside>\n",
    "💡 **Q7.** Given an integer array nums, move all 0's to the end of it while maintaining the relative order of the nonzero elements.\n",
    "\n",
    "Note that you must do this in-place without making a copy of the array.\n",
    "\n",
    "**Example 1:**\n",
    "Input: nums = [0,1,0,3,12]\n",
    "Output: [1,3,12,0,0]\n",
    "\n",
    "</aside>"
   ]
  },
  {
   "cell_type": "code",
   "execution_count": 44,
   "id": "e51b14a9",
   "metadata": {
    "ExecuteTime": {
     "end_time": "2023-05-29T03:15:23.634032Z",
     "start_time": "2023-05-29T03:15:23.613998Z"
    }
   },
   "outputs": [
    {
     "name": "stdout",
     "output_type": "stream",
     "text": [
      "[1, 3, 12, 0, 0]\n",
      "[1, 3, 5, 7, 8, 2, 0, 0, 0]\n"
     ]
    }
   ],
   "source": [
    "#Ans:\n",
    "\n",
    "def push_zeros_to_last(values):\n",
    "    c= 0\n",
    "    for i in range(len(values)):\n",
    "        if values[i] != 0:\n",
    "            values[c], values[i] = values[i], values[c]\n",
    "            c +=1\n",
    "    return values\n",
    "\n",
    "\n",
    "#case1\n",
    "\n",
    "print(push_zeros_to_last([0,1,0,3,12]))\n",
    "\n",
    "#case2\n",
    "\n",
    "print(push_zeros_to_last([0,1,0,3,5,7,0,8,2]))\n",
    "            \n"
   ]
  },
  {
   "cell_type": "code",
   "execution_count": null,
   "id": "710003cf",
   "metadata": {},
   "outputs": [],
   "source": []
  },
  {
   "cell_type": "code",
   "execution_count": null,
   "id": "e899f7a7",
   "metadata": {},
   "outputs": [],
   "source": []
  },
  {
   "cell_type": "code",
   "execution_count": null,
   "id": "ccdab49a",
   "metadata": {},
   "outputs": [],
   "source": [
    "<aside>\n",
    "💡 **Q8.** You have a set of integers s, which originally contains all the numbers from 1 to n. Unfortunately, due to some error, one of the numbers in s got duplicated to another number in the set, which results in repetition of one number and loss of another number.\n",
    "\n",
    "You are given an integer array nums representing the data status of this set after the error.\n",
    "\n",
    "Find the number that occurs twice and the number that is missing and return them in the form of an array.\n",
    "\n",
    "**Example 1:**\n",
    "Input: nums = [1,2,2,4]\n",
    "Output: [2,3]\n",
    "\n",
    "</aside>"
   ]
  },
  {
   "cell_type": "code",
   "execution_count": 47,
   "id": "4eeaf395",
   "metadata": {
    "ExecuteTime": {
     "end_time": "2023-05-29T03:28:23.592741Z",
     "start_time": "2023-05-29T03:28:23.576739Z"
    }
   },
   "outputs": [
    {
     "name": "stdout",
     "output_type": "stream",
     "text": [
      "[2, 3]\n",
      "[6, 7]\n"
     ]
    }
   ],
   "source": [
    "#Ans:\n",
    "\n",
    "def find_duplicate(nums):\n",
    "    for i in range(len(nums)):\n",
    "        if nums[i] == nums[i+1]:\n",
    "            return [nums[i], nums[i] +1]\n",
    "        \n",
    "\n",
    "#case1\n",
    "print(find_duplicate([1,2,2,4]))\n",
    "\n",
    "#case2\n",
    "print(find_duplicate([1,2,3,4,5,6,6,7,8,9]))\n"
   ]
  },
  {
   "cell_type": "code",
   "execution_count": null,
   "id": "afc955d6",
   "metadata": {},
   "outputs": [],
   "source": []
  }
 ],
 "metadata": {
  "hide_input": false,
  "kernelspec": {
   "display_name": "Python 3",
   "language": "python",
   "name": "python3"
  },
  "language_info": {
   "codemirror_mode": {
    "name": "ipython",
    "version": 3
   },
   "file_extension": ".py",
   "mimetype": "text/x-python",
   "name": "python",
   "nbconvert_exporter": "python",
   "pygments_lexer": "ipython3",
   "version": "3.8.8"
  },
  "toc": {
   "base_numbering": 1,
   "nav_menu": {},
   "number_sections": true,
   "sideBar": true,
   "skip_h1_title": false,
   "title_cell": "Table of Contents",
   "title_sidebar": "Contents",
   "toc_cell": false,
   "toc_position": {},
   "toc_section_display": true,
   "toc_window_display": false
  }
 },
 "nbformat": 4,
 "nbformat_minor": 5
}
