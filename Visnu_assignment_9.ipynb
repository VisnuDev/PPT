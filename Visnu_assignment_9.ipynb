{
 "cells": [
  {
   "cell_type": "code",
   "execution_count": null,
   "id": "fd65dbbc",
   "metadata": {},
   "outputs": [],
   "source": [
    "<aside>\n",
    "💡 **Question 1**\n",
    "\n",
    "Given an integer `n`, return *`true` if it is a power of two. Otherwise, return `false`*.\n",
    "\n",
    "An integer `n` is a power of two, if there exists an integer `x` such that `n == 2x`.\n",
    "\n",
    "**Example 1:**\n",
    "Input: n = 1 \n",
    "\n",
    "Output: true\n",
    "\n",
    "**Example 2:**\n",
    "Input: n = 16 \n",
    "\n",
    "Output: true\n",
    "\n",
    "**Example 3:**\n",
    "Input: n = 3 \n",
    "\n",
    "Output: false\n",
    "\n",
    "</aside>\n"
   ]
  },
  {
   "cell_type": "code",
   "execution_count": 10,
   "id": "40d1a237",
   "metadata": {
    "ExecuteTime": {
     "end_time": "2023-06-13T13:19:29.386068Z",
     "start_time": "2023-06-13T13:19:29.367055Z"
    }
   },
   "outputs": [
    {
     "name": "stdout",
     "output_type": "stream",
     "text": [
      "0 = True\n",
      "1 = True\n",
      "2 = True\n",
      "3 = False\n",
      "4 = True\n",
      "5 = False\n",
      "6 = False\n",
      "7 = False\n",
      "8 = True\n",
      "9 = False\n",
      "10 = False\n",
      "11 = False\n",
      "12 = False\n",
      "13 = False\n",
      "14 = False\n",
      "15 = False\n",
      "16 = True\n",
      "17 = False\n",
      "18 = False\n",
      "19 = False\n"
     ]
    }
   ],
   "source": [
    "#Ans:\n",
    "\n",
    "def powerof2(n):\n",
    "    if n==0 or n==1:\n",
    "        return True\n",
    "    elif n%2!=0:\n",
    "        return False\n",
    "    return powerof2(n/2)\n",
    "\n",
    "\n",
    "for i in range(20):\n",
    "    print(f'{i} = {powerof2(i)}')"
   ]
  },
  {
   "cell_type": "code",
   "execution_count": null,
   "id": "300137d0",
   "metadata": {},
   "outputs": [],
   "source": []
  },
  {
   "cell_type": "code",
   "execution_count": null,
   "id": "d08b7b62",
   "metadata": {},
   "outputs": [],
   "source": []
  },
  {
   "cell_type": "code",
   "execution_count": null,
   "id": "c1c58818",
   "metadata": {},
   "outputs": [],
   "source": [
    "<aside>\n",
    "💡 **Question 2**\n",
    "\n",
    "Given a number n, find the sum of the first natural numbers.\n",
    "\n",
    "**Example 1:**\n",
    "\n",
    "Input: n = 3 \n",
    "\n",
    "Output: 6\n",
    "\n",
    "**Example 2:**\n",
    "\n",
    "Input  : 5 \n",
    "\n",
    "Output : 15\n",
    "\n",
    "</aside>"
   ]
  },
  {
   "cell_type": "code",
   "execution_count": 13,
   "id": "a0a87a03",
   "metadata": {
    "ExecuteTime": {
     "end_time": "2023-06-13T13:22:21.047825Z",
     "start_time": "2023-06-13T13:22:21.030824Z"
    }
   },
   "outputs": [
    {
     "name": "stdout",
     "output_type": "stream",
     "text": [
      "15\n",
      "55\n",
      "5050\n"
     ]
    }
   ],
   "source": [
    "#Ans:\n",
    "\n",
    "def sumofN(n):\n",
    "    if n==0:\n",
    "        return n\n",
    "    return n + sumofN(n-1)\n",
    "\n",
    "\n",
    "print(sumofN(5))\n",
    "\n",
    "print(sumofN(10))\n",
    "\n",
    "print(sumofN(100))"
   ]
  },
  {
   "cell_type": "code",
   "execution_count": null,
   "id": "4ab3e3f8",
   "metadata": {},
   "outputs": [],
   "source": []
  },
  {
   "cell_type": "code",
   "execution_count": null,
   "id": "da2a48c9",
   "metadata": {},
   "outputs": [],
   "source": []
  },
  {
   "cell_type": "code",
   "execution_count": null,
   "id": "26de5b6f",
   "metadata": {},
   "outputs": [],
   "source": [
    "<aside>\n",
    "💡 **Question 3**\n",
    "\n",
    "****Given a positive integer, N. Find the factorial of N. \n",
    "\n",
    "**Example 1:**\n",
    "\n",
    "Input: N = 5 \n",
    "\n",
    "Output: 120\n",
    "\n",
    "**Example 2:**\n",
    "\n",
    "Input: N = 4\n",
    "\n",
    "Output: 24\n",
    "\n",
    "</aside>\n"
   ]
  },
  {
   "cell_type": "code",
   "execution_count": 17,
   "id": "604bf89f",
   "metadata": {
    "ExecuteTime": {
     "end_time": "2023-06-13T13:25:33.284842Z",
     "start_time": "2023-06-13T13:25:33.268843Z"
    }
   },
   "outputs": [
    {
     "name": "stdout",
     "output_type": "stream",
     "text": [
      "120\n",
      "720\n",
      "1\n"
     ]
    }
   ],
   "source": [
    "#Ans:\n",
    "\n",
    "def factofN(n):\n",
    "    if n==1 or n==0:\n",
    "        return 1\n",
    "    return n* factofN(n-1)\n",
    "\n",
    "\n",
    "print(factofN(5))\n",
    "\n",
    "\n",
    "print(factofN(6))\n",
    "\n",
    "\n",
    "print(factofN(0))\n"
   ]
  },
  {
   "cell_type": "code",
   "execution_count": null,
   "id": "a1261e4b",
   "metadata": {},
   "outputs": [],
   "source": []
  },
  {
   "cell_type": "code",
   "execution_count": null,
   "id": "30c58801",
   "metadata": {},
   "outputs": [],
   "source": []
  },
  {
   "cell_type": "code",
   "execution_count": null,
   "id": "0db1a3f3",
   "metadata": {},
   "outputs": [],
   "source": [
    "<aside>\n",
    "💡 **Question 4**\n",
    "\n",
    "Given a number N and a power P, the task is to find the exponent of this number raised to the given power, i.e. N^P.\n",
    "\n",
    "**Example 1 :** \n",
    "\n",
    "Input: N = 5, P = 2\n",
    "\n",
    "Output: 25\n",
    "\n",
    "**Example 2 :**\n",
    "Input: N = 2, P = 5\n",
    "\n",
    "Output: 32\n",
    "\n",
    "</aside>"
   ]
  },
  {
   "cell_type": "code",
   "execution_count": 24,
   "id": "711f8871",
   "metadata": {
    "ExecuteTime": {
     "end_time": "2023-06-13T13:31:02.424886Z",
     "start_time": "2023-06-13T13:31:02.405895Z"
    }
   },
   "outputs": [
    {
     "name": "stdout",
     "output_type": "stream",
     "text": [
      "32\n",
      "27\n",
      "125\n"
     ]
    }
   ],
   "source": [
    "#Ans:\n",
    "\n",
    "def exponent(n, p):\n",
    "    if p==1 or p==0:\n",
    "        return n\n",
    "    return n * exponent(n, p-1)\n",
    "\n",
    "\n",
    "print(exponent(2,5))\n",
    "\n",
    "print(exponent(3,3))\n",
    "\n",
    "print(exponent(5,3))\n",
    "\n",
    "\n"
   ]
  },
  {
   "cell_type": "code",
   "execution_count": null,
   "id": "65f45486",
   "metadata": {},
   "outputs": [],
   "source": []
  },
  {
   "cell_type": "code",
   "execution_count": null,
   "id": "d5b8b25e",
   "metadata": {},
   "outputs": [],
   "source": []
  },
  {
   "cell_type": "code",
   "execution_count": null,
   "id": "70f81ef5",
   "metadata": {},
   "outputs": [],
   "source": [
    "<aside>\n",
    "💡 **Question 5**\n",
    "\n",
    "Given an array of integers **arr**, the task is to find maximum element of that array using recursion.\n",
    "\n",
    "**Example 1:**\n",
    "\n",
    "Input: arr = {1, 4, 3, -5, -4, 8, 6};\n",
    "Output: 8\n",
    "\n",
    "**Example 2:**\n",
    "\n",
    "Input: arr = {1, 4, 45, 6, 10, -8};\n",
    "Output: 45\n",
    "\n",
    "</aside>"
   ]
  },
  {
   "cell_type": "code",
   "execution_count": 1,
   "id": "a9d8c725",
   "metadata": {
    "ExecuteTime": {
     "end_time": "2023-06-13T14:00:34.126087Z",
     "start_time": "2023-06-13T14:00:34.109084Z"
    }
   },
   "outputs": [
    {
     "name": "stdout",
     "output_type": "stream",
     "text": [
      "-5\n"
     ]
    }
   ],
   "source": [
    "#Ans:\n",
    "\n",
    "def maxi(arr, n):\n",
    "    if n==1:\n",
    "        return arr[0]\n",
    "    return min(arr[n-1], maxi(arr, n-1))\n",
    "\n",
    "\n",
    "print(maxi([1, 4, 3, -5, -4, 8, 6], 7))"
   ]
  },
  {
   "cell_type": "code",
   "execution_count": null,
   "id": "55fcfb2c",
   "metadata": {},
   "outputs": [],
   "source": []
  },
  {
   "cell_type": "code",
   "execution_count": null,
   "id": "43a1ccd7",
   "metadata": {},
   "outputs": [],
   "source": []
  },
  {
   "cell_type": "code",
   "execution_count": null,
   "id": "91693ad4",
   "metadata": {},
   "outputs": [],
   "source": [
    "<aside>\n",
    "💡 **Question 6**\n",
    "\n",
    "Given first term (a), common difference (d) and a integer N of the Arithmetic Progression series, the task is to find Nth term of the series.\n",
    "\n",
    "**Example 1:**\n",
    "\n",
    "Input : a = 2 d = 1 N = 5\n",
    "Output : 6\n",
    "The 5th term of the series is : 6\n",
    "\n",
    "**Example 2:**\n",
    "\n",
    "Input : a = 5 d = 2 N = 10\n",
    "Output : 23\n",
    "The 10th term of the series is : 23\n",
    "\n",
    "</aside>"
   ]
  },
  {
   "cell_type": "code",
   "execution_count": 9,
   "id": "87851f15",
   "metadata": {
    "ExecuteTime": {
     "end_time": "2023-06-13T14:20:36.991055Z",
     "start_time": "2023-06-13T14:20:36.974052Z"
    }
   },
   "outputs": [
    {
     "name": "stdout",
     "output_type": "stream",
     "text": [
      "6\n",
      "23\n"
     ]
    }
   ],
   "source": [
    "#Ans:\n",
    "\n",
    "def arith_prog(a, d, N):\n",
    "    if N==1:\n",
    "        return d\n",
    "    return a + arith_prog(d, d, N-1)\n",
    "\n",
    "\n",
    "\n",
    "print(arith_prog(2,1,5))\n",
    "\n",
    "print(arith_prog(5,2,10))"
   ]
  },
  {
   "cell_type": "code",
   "execution_count": null,
   "id": "d81da2e4",
   "metadata": {},
   "outputs": [],
   "source": []
  },
  {
   "cell_type": "code",
   "execution_count": null,
   "id": "7648db27",
   "metadata": {},
   "outputs": [],
   "source": []
  },
  {
   "cell_type": "code",
   "execution_count": null,
   "id": "47452359",
   "metadata": {},
   "outputs": [],
   "source": [
    "<aside>\n",
    "💡 **Question 7**\n",
    "\n",
    "Given a string S, the task is to write a program to print all permutations of a given string.\n",
    "\n",
    "**Example 1:**\n",
    "\n",
    "***Input:***\n",
    "\n",
    "*S = “ABC”*\n",
    "\n",
    "***Output:***\n",
    "\n",
    "*“ABC”, “ACB”, “BAC”, “BCA”, “CBA”, “CAB”*\n",
    "\n",
    "**Example 2:**\n",
    "\n",
    "***Input:***\n",
    "\n",
    "*S = “XY”*\n",
    "\n",
    "***Output:***\n",
    "\n",
    "*“XY”, “YX”*\n",
    "\n",
    "</aside>"
   ]
  },
  {
   "cell_type": "code",
   "execution_count": 4,
   "id": "93b6588e",
   "metadata": {
    "ExecuteTime": {
     "end_time": "2023-06-13T14:12:02.221718Z",
     "start_time": "2023-06-13T14:12:02.197684Z"
    }
   },
   "outputs": [
    {
     "name": "stdout",
     "output_type": "stream",
     "text": [
      "ABC\n",
      "ACB\n",
      "BAC\n",
      "BCA\n",
      "CBA\n",
      "CAB\n",
      "None\n",
      "123\n",
      "132\n",
      "213\n",
      "231\n",
      "321\n",
      "312\n",
      "None\n"
     ]
    }
   ],
   "source": [
    "def get_permu(st, i=0):\n",
    "\n",
    "    if i == len(st): \n",
    "        print(\"\".join(st))\n",
    "    for j in range(i, len(st)):\n",
    "        words = [c for c in st]\n",
    "        words[i], words[j] = words[j], words[i]\n",
    "        get_permu(words, i + 1)\n",
    "\n",
    "print(get_permu('ABC'))\n",
    "\n",
    "\n",
    "print(get_permu('123'))\n"
   ]
  },
  {
   "cell_type": "code",
   "execution_count": null,
   "id": "f2bfd99c",
   "metadata": {},
   "outputs": [],
   "source": []
  },
  {
   "cell_type": "code",
   "execution_count": null,
   "id": "57283ee6",
   "metadata": {},
   "outputs": [],
   "source": []
  },
  {
   "cell_type": "code",
   "execution_count": null,
   "id": "a26a3692",
   "metadata": {},
   "outputs": [],
   "source": [
    "<aside>\n",
    "💡 **Question 8**\n",
    "\n",
    "Given an array, find a product of all array elements.\n",
    "\n",
    "**Example 1:**\n",
    "\n",
    "Input  : arr[] = {1, 2, 3, 4, 5}\n",
    "Output : 120\n",
    "**Example 2:**\n",
    "\n",
    "Input  : arr[] = {1, 6, 3}\n",
    "Output : 18\n",
    "\n",
    "</aside>"
   ]
  },
  {
   "cell_type": "code",
   "execution_count": 31,
   "id": "c6f3279f",
   "metadata": {
    "ExecuteTime": {
     "end_time": "2023-06-13T13:57:07.219398Z",
     "start_time": "2023-06-13T13:57:07.198365Z"
    }
   },
   "outputs": [
    {
     "name": "stdout",
     "output_type": "stream",
     "text": [
      "120\n",
      "18\n"
     ]
    }
   ],
   "source": [
    "#Ans:\n",
    "\n",
    "def prod(arr):\n",
    "    if len(arr)==1:\n",
    "        return arr[0]\n",
    "    return arr[0] * prod(arr[1:])\n",
    "\n",
    "\n",
    "\n",
    "print(prod([1,2,3,4,5]))\n",
    "\n",
    "print(prod([1, 6, 3]))\n"
   ]
  },
  {
   "cell_type": "code",
   "execution_count": null,
   "id": "c0e41048",
   "metadata": {},
   "outputs": [],
   "source": []
  }
 ],
 "metadata": {
  "hide_input": false,
  "kernelspec": {
   "display_name": "Python 3",
   "language": "python",
   "name": "python3"
  },
  "language_info": {
   "codemirror_mode": {
    "name": "ipython",
    "version": 3
   },
   "file_extension": ".py",
   "mimetype": "text/x-python",
   "name": "python",
   "nbconvert_exporter": "python",
   "pygments_lexer": "ipython3",
   "version": "3.8.8"
  },
  "toc": {
   "base_numbering": 1,
   "nav_menu": {},
   "number_sections": true,
   "sideBar": true,
   "skip_h1_title": false,
   "title_cell": "Table of Contents",
   "title_sidebar": "Contents",
   "toc_cell": false,
   "toc_position": {},
   "toc_section_display": true,
   "toc_window_display": false
  }
 },
 "nbformat": 4,
 "nbformat_minor": 5
}
