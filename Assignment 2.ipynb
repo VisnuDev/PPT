{
 "cells": [
  {
   "cell_type": "code",
   "execution_count": null,
   "id": "9356ccaf",
   "metadata": {},
   "outputs": [],
   "source": [
    "<aside>\n",
    "💡 **Question 1**\n",
    "Given an integer array nums of 2n integers, group these integers into n pairs (a1, b1), (a2, b2),..., (an, bn) such that the sum of min(ai, bi) for all i is maximized. \n",
    "Return the maximized sum.\n",
    "\n",
    "**Example 1:**\n",
    "Input: nums = [1,4,3,2]\n",
    "Output: 4\n",
    "\n",
    "**Explanation:** All possible pairings (ignoring the ordering of elements) are:\n",
    "\n",
    "1. (1, 4), (2, 3) -> min(1, 4) + min(2, 3) = 1 + 2 = 3\n",
    "2. (1, 3), (2, 4) -> min(1, 3) + min(2, 4) = 1 + 2 = 3\n",
    "3. (1, 2), (3, 4) -> min(1, 2) + min(3, 4) = 1 + 3 = 4\n",
    "So the maximum possible sum is 4\n",
    "</aside>"
   ]
  },
  {
   "cell_type": "code",
   "execution_count": 15,
   "id": "3d59f525",
   "metadata": {
    "ExecuteTime": {
     "end_time": "2023-05-31T03:39:50.724531Z",
     "start_time": "2023-05-31T03:39:50.705565Z"
    }
   },
   "outputs": [
    {
     "name": "stdout",
     "output_type": "stream",
     "text": [
      "4\n",
      "7\n",
      "6\n"
     ]
    }
   ],
   "source": [
    "#Ans:\n",
    "\n",
    "def maximum_sum(values):\n",
    "    values.sort()\n",
    "    max_sum=0\n",
    "    for i in range(0, len(values), 2):\n",
    "        max_sum += min(values[i], values[i+1])\n",
    "    return max_sum\n",
    "\n",
    "\n",
    "\n",
    "#output\n",
    "\n",
    "#case1:\n",
    "print(maximum_sum([1,2,3,4]))\n",
    "\n",
    "#case2\n",
    "print(maximum_sum([1,7,3,6]))\n",
    "\n",
    "#case3\n",
    "print(maximum_sum([-1,7,4,9]))\n"
   ]
  },
  {
   "cell_type": "code",
   "execution_count": null,
   "id": "e78311b7",
   "metadata": {},
   "outputs": [],
   "source": []
  },
  {
   "cell_type": "code",
   "execution_count": null,
   "id": "30952632",
   "metadata": {},
   "outputs": [],
   "source": []
  },
  {
   "cell_type": "code",
   "execution_count": null,
   "id": "6c473059",
   "metadata": {},
   "outputs": [],
   "source": [
    "Question 2\n",
    "Alice has n candies, where the ith candy is of type candyType[i]. Alice noticed that she started to gain weight, so she visited a doctor. \n",
    "\n",
    "The doctor advised Alice to only eat n / 2 of the candies she has (n is always even). Alice likes her candies very much, and she wants to eat the maximum number of different types of candies while still following the doctor's advice. \n",
    "\n",
    "Given the integer array candyType of length n, return the maximum number of different types of candies she can eat if she only eats n / 2 of them.\n",
    "\n",
    "Example 1:\n",
    "Input: candyType = [1,1,2,2,3,3]\n",
    "Output: 3\n",
    "\n",
    "Explanation: Alice can only eat 6 / 2 = 3 candies. Since there are only 3 types, she can eat one of each type."
   ]
  },
  {
   "cell_type": "code",
   "execution_count": 14,
   "id": "3cf74696",
   "metadata": {
    "ExecuteTime": {
     "end_time": "2023-05-31T03:38:44.242067Z",
     "start_time": "2023-05-31T03:38:44.230069Z"
    }
   },
   "outputs": [
    {
     "name": "stdout",
     "output_type": "stream",
     "text": [
      "3\n",
      "4\n",
      "1\n"
     ]
    }
   ],
   "source": [
    "#Ans:\n",
    "\n",
    "def candy_limit(Candy_type):\n",
    "    uniq_type= set(Candy_type)\n",
    "    count = len(Candy_type) // 2\n",
    "    if count >= len(uniq_type):\n",
    "        return len(uniq_type)\n",
    "    else:\n",
    "        return count\n",
    "    \n",
    "\n",
    "#output:\n",
    "\n",
    "#case1:\n",
    "print(candy_limit([1,1,2,2,3,3]))\n",
    "\n",
    "#case2\n",
    "print(candy_limit([1,1,2,3,4,5,5,6]))\n",
    "\n",
    "#case3\n",
    "print(candy_limit([2,2,2,2,2,2,2,2]))"
   ]
  },
  {
   "cell_type": "code",
   "execution_count": null,
   "id": "c9e2031b",
   "metadata": {},
   "outputs": [],
   "source": []
  },
  {
   "cell_type": "code",
   "execution_count": null,
   "id": "0ccaca22",
   "metadata": {},
   "outputs": [],
   "source": []
  },
  {
   "cell_type": "code",
   "execution_count": null,
   "id": "6c93793a",
   "metadata": {},
   "outputs": [],
   "source": [
    "Question3:\n",
    "We define a harmonious array as an array where the difference between its maximum value\n",
    "and its minimum value is exactly 1.\n",
    "\n",
    "Given an integer array nums, return the length of its longest harmonious subsequence\n",
    "among all its possible subsequences.\n",
    "\n",
    "A subsequence of an array is a sequence that can be derived from the array by deleting some or no elements without changing the order of the remaining elements.\n",
    "\n",
    "Example 1:\n",
    "Input: nums = [1,3,2,2,5,2,3,7]\n",
    "Output: 5\n",
    "\n",
    "Explanation: The longest harmonious subsequence is [3,2,2,2,3]."
   ]
  },
  {
   "cell_type": "code",
   "execution_count": 49,
   "id": "6b87bfba",
   "metadata": {
    "ExecuteTime": {
     "end_time": "2023-05-31T08:04:16.603328Z",
     "start_time": "2023-05-31T08:04:16.584290Z"
    }
   },
   "outputs": [
    {
     "name": "stdout",
     "output_type": "stream",
     "text": [
      "5\n",
      "4\n"
     ]
    }
   ],
   "source": [
    "def len_subseq(nums):\n",
    "    freq = {}\n",
    "    for num in nums:\n",
    "        freq[num] = freq.get(num, 0) + 1\n",
    "    max_len = 0\n",
    "    for key in freq:\n",
    "        if key + 1 in freq:\n",
    "            max_len = max(max_len, freq[key] + freq[key + 1])\n",
    "    return max_len\n",
    "\n",
    "\n",
    "#case1\n",
    "print(len_subseq([1,3,2,2,5,2,3,7]))\n",
    "\n",
    "#case2\n",
    "print(len_subseq([3,4,4,6,7,4]))\n"
   ]
  },
  {
   "cell_type": "code",
   "execution_count": null,
   "id": "f0e5ed10",
   "metadata": {},
   "outputs": [],
   "source": []
  },
  {
   "cell_type": "code",
   "execution_count": null,
   "id": "a098a672",
   "metadata": {},
   "outputs": [],
   "source": []
  },
  {
   "cell_type": "code",
   "execution_count": null,
   "id": "223f3a7e",
   "metadata": {},
   "outputs": [],
   "source": [
    "Question 4\n",
    "You have a long flowerbed in which some of the plots are planted, and some are not.\n",
    "However, flowers cannot be planted in adjacent plots.\n",
    "Given an integer array flowerbed containing 0's and 1's, where 0 means empty and 1 means not empty, and an integer n, return true if n new flowers can be planted in the flowerbed without violating the no-adjacent-flowers rule and false otherwise.\n",
    "\n",
    "Example 1:\n",
    "Input: flowerbed = [1,0,0,0,1], n = 1\n",
    "Output: true"
   ]
  },
  {
   "cell_type": "code",
   "execution_count": 24,
   "id": "4243e052",
   "metadata": {
    "ExecuteTime": {
     "end_time": "2023-05-31T04:43:07.340175Z",
     "start_time": "2023-05-31T04:43:07.325181Z"
    }
   },
   "outputs": [
    {
     "name": "stdout",
     "output_type": "stream",
     "text": [
      "True\n",
      "False\n"
     ]
    }
   ],
   "source": [
    "#code\n",
    "\n",
    "def flower(bed, n):\n",
    "    if n==0:\n",
    "        return True\n",
    "    c=0\n",
    "    for i in range(0, len(bed)):\n",
    "        if bed[i]==0 and ( i==len(bed)-1 or bed[i+1]==0) and (bed[i-1]==0 or i==0):\n",
    "            bed[i]=1\n",
    "            c += 1\n",
    "    if c>=n:\n",
    "        return True\n",
    "    else:\n",
    "        return False\n",
    "    \n",
    "\n",
    "    \n",
    "#case1\n",
    "print(flower([1,0,0,0,1], 1))\n",
    "\n",
    "#case2\n",
    "print(flower([0,1,0,0,0,0,0,1,0,0,0,1,0,0], 5))\n",
    "    \n"
   ]
  },
  {
   "cell_type": "code",
   "execution_count": null,
   "id": "6b73ec5d",
   "metadata": {},
   "outputs": [],
   "source": []
  },
  {
   "cell_type": "code",
   "execution_count": null,
   "id": "58cc3c3b",
   "metadata": {},
   "outputs": [],
   "source": []
  },
  {
   "cell_type": "code",
   "execution_count": null,
   "id": "0375c66c",
   "metadata": {},
   "outputs": [],
   "source": [
    "Question5:\n",
    "Given an integer array nums, find three numbers whose product is maximum and return the maximum product.\n",
    "\n",
    "Example 1:\n",
    "Input: nums = [1,2,3]\n",
    "Output: 6"
   ]
  },
  {
   "cell_type": "code",
   "execution_count": 30,
   "id": "9fee2c78",
   "metadata": {
    "ExecuteTime": {
     "end_time": "2023-05-31T06:06:51.807846Z",
     "start_time": "2023-05-31T06:06:51.795845Z"
    }
   },
   "outputs": [
    {
     "name": "stdout",
     "output_type": "stream",
     "text": [
      "6\n",
      "720\n",
      "432\n"
     ]
    }
   ],
   "source": [
    "def max_prod(val):\n",
    "        val.sort(reverse=True)\n",
    "        v1=val[0]*val[1]*val[2]\n",
    "        v2=val[0]*val[-1]*val[-2]\n",
    "        return max(v1,v2)\n",
    "    \n",
    "#case1\n",
    "print(max_prod([1,2,3]))\n",
    "\n",
    "#case2\n",
    "print(max_prod([1,5,2,1,7,8,6,9,10]))\n",
    "\n",
    "#case\n",
    "print(max_prod([-5,-2,-6,-8,-1, 9]))"
   ]
  },
  {
   "cell_type": "code",
   "execution_count": null,
   "id": "b1edc24d",
   "metadata": {},
   "outputs": [],
   "source": []
  },
  {
   "cell_type": "code",
   "execution_count": null,
   "id": "62b18467",
   "metadata": {},
   "outputs": [],
   "source": []
  },
  {
   "cell_type": "code",
   "execution_count": null,
   "id": "069ad14f",
   "metadata": {},
   "outputs": [],
   "source": [
    "Question6:\n",
    "    \n",
    "Given an array of integers nums which is sorted in ascending order, and an integer target,\n",
    "write a function to search target in nums. If target exists, then return its index. Otherwise,\n",
    "return -1.\n",
    "\n",
    "You must write an algorithm with O(log n) runtime complexity.\n",
    "\n",
    "Input: nums = [-1,0,3,5,9,12], target = 9\n",
    "Output: 4\n",
    "\n",
    "Explanation: 9 exists in nums and its index is 4"
   ]
  },
  {
   "cell_type": "code",
   "execution_count": 35,
   "id": "0b4ed956",
   "metadata": {
    "ExecuteTime": {
     "end_time": "2023-05-31T06:39:02.050112Z",
     "start_time": "2023-05-31T06:39:02.026108Z"
    }
   },
   "outputs": [
    {
     "name": "stdout",
     "output_type": "stream",
     "text": [
      "4\n",
      "5\n",
      "-1\n"
     ]
    }
   ],
   "source": [
    "#Ans:\n",
    "\n",
    "def get_index(vals, n):\n",
    "    l=0\n",
    "    r=len(vals)-1\n",
    "    m= len(vals)//2\n",
    "    if vals[l]==vals[r]:\n",
    "        if vals[l]==n:\n",
    "            return 0\n",
    "        else:\n",
    "            return -1\n",
    "    if n==vals[m]:\n",
    "            return m\n",
    "    while l<=r:\n",
    "        m= (l+r)//2\n",
    "        if n>vals[m]:\n",
    "            l=m+1\n",
    "        elif n<vals[m]:\n",
    "            r=m-1\n",
    "        else:\n",
    "            return m\n",
    "        \n",
    "    return -1\n",
    "    \n",
    "\n",
    "    \n",
    "#case1\n",
    "\n",
    "print(get_index([-1,0,3,5,9,12], 9))\n",
    "            \n",
    "    \n",
    "#case2\n",
    "\n",
    "print(get_index([-5,-2,1,8,9,14,67,89], 14))\n",
    "\n",
    "#case 3\n",
    "print(get_index([-5,-2,1,8,9,14,67,89], 30))\n",
    "\n",
    "\n",
    "        "
   ]
  },
  {
   "cell_type": "code",
   "execution_count": null,
   "id": "2540ecb0",
   "metadata": {},
   "outputs": [],
   "source": []
  },
  {
   "cell_type": "code",
   "execution_count": null,
   "id": "fe43789d",
   "metadata": {},
   "outputs": [],
   "source": []
  },
  {
   "cell_type": "code",
   "execution_count": null,
   "id": "cfca9c15",
   "metadata": {},
   "outputs": [],
   "source": [
    "Question7:\n",
    "\n",
    "An array is monotonic if it is either monotone increasing or monotone decreasing.\n",
    "\n",
    "An array nums is monotone increasing if for all i <= j, nums[i] <= nums[j]. An array nums is\n",
    "monotone decreasing if for all i <= j, nums[i] >= nums[j].\n",
    "\n",
    "Given an integer array nums, return true if the given array is monotonic, or false otherwise.\n",
    "\n",
    "Example 1:\n",
    "Input: nums = [1,2,2,3]\n",
    "Output: true"
   ]
  },
  {
   "cell_type": "code",
   "execution_count": 39,
   "id": "87685c4d",
   "metadata": {
    "ExecuteTime": {
     "end_time": "2023-05-31T06:54:58.122451Z",
     "start_time": "2023-05-31T06:54:58.100451Z"
    }
   },
   "outputs": [
    {
     "name": "stdout",
     "output_type": "stream",
     "text": [
      "True\n",
      "True\n",
      "False\n"
     ]
    }
   ],
   "source": [
    "#Ans:\n",
    "\n",
    "def monotonic(vals):\n",
    "    if vals[0] < vals[-1]:\n",
    "        for i in range(len(vals)-1):\n",
    "            if vals[i] >vals[i+1]:\n",
    "                return False\n",
    "        return True\n",
    "    elif vals[0] >vals[-1]:\n",
    "        for i in range(len(vals)-1):\n",
    "            if vals[i] < vals[i+1]:\n",
    "                return False\n",
    "        return True\n",
    "    elif vals[0] == vals[-1]:\n",
    "        if len(set(vals))==1:\n",
    "            return True\n",
    "        else:\n",
    "            return False\n",
    "    \n",
    "    \n",
    "\n",
    "#case1\n",
    "print(monotonic([1,2,2,3]))\n",
    "      \n",
    "#case2\n",
    "print(monotonic([3,2,2,1]))\n",
    "\n",
    "#case3\n",
    "print(monotonic([4,5,2,1]))"
   ]
  },
  {
   "cell_type": "code",
   "execution_count": null,
   "id": "7d84e359",
   "metadata": {},
   "outputs": [],
   "source": []
  },
  {
   "cell_type": "code",
   "execution_count": null,
   "id": "9eea6c55",
   "metadata": {},
   "outputs": [],
   "source": []
  },
  {
   "cell_type": "code",
   "execution_count": null,
   "id": "fb32fa4a",
   "metadata": {},
   "outputs": [],
   "source": [
    "Question 8\n",
    "You are given an integer array nums and an integer k.\n",
    "\n",
    "In one operation, you can choose any index i where 0 <= i < nums.length and change nums[i] to nums[i] + x where x is an integer from the range [-k, k]. You can apply this operation at most once for each index i.\n",
    "\n",
    "The score of nums is the difference between the maximum and minimum elements in nums.\n",
    "\n",
    "Return the minimum score of nums after applying the mentioned operation at most once for each index in it.\n",
    "\n",
    "Example 1:\n",
    "Input: nums = [1], k = 0\n",
    "Output: 0\n",
    "\n",
    "Explanation: The score is max(nums) - min(nums) = 1 - 1 = 0."
   ]
  },
  {
   "cell_type": "code",
   "execution_count": 46,
   "id": "0b8c8882",
   "metadata": {
    "ExecuteTime": {
     "end_time": "2023-05-31T08:01:29.302725Z",
     "start_time": "2023-05-31T08:01:29.282729Z"
    }
   },
   "outputs": [
    {
     "name": "stdout",
     "output_type": "stream",
     "text": [
      "0\n",
      "2\n"
     ]
    }
   ],
   "source": [
    "#Ans:\n",
    "\n",
    "def min_sore(nums, k):\n",
    "    maxi = max(nums)\n",
    "    mini = min(nums)\n",
    "    if maxi - mini <= 2 * k:\n",
    "        return 0\n",
    "    else:\n",
    "        return maxi - mini - 2 * k\n",
    "    \n",
    "    \n",
    "#case1:\n",
    "\n",
    "print(min_sore([1], 0))\n",
    "\n",
    "print(min_sore([1,4,6,3,5,0,2], 2))"
   ]
  },
  {
   "cell_type": "code",
   "execution_count": null,
   "id": "f5f14b73",
   "metadata": {},
   "outputs": [],
   "source": []
  }
 ],
 "metadata": {
  "hide_input": false,
  "kernelspec": {
   "display_name": "Python 3",
   "language": "python",
   "name": "python3"
  },
  "language_info": {
   "codemirror_mode": {
    "name": "ipython",
    "version": 3
   },
   "file_extension": ".py",
   "mimetype": "text/x-python",
   "name": "python",
   "nbconvert_exporter": "python",
   "pygments_lexer": "ipython3",
   "version": "3.8.8"
  },
  "toc": {
   "base_numbering": 1,
   "nav_menu": {},
   "number_sections": true,
   "sideBar": true,
   "skip_h1_title": false,
   "title_cell": "Table of Contents",
   "title_sidebar": "Contents",
   "toc_cell": false,
   "toc_position": {},
   "toc_section_display": true,
   "toc_window_display": false
  }
 },
 "nbformat": 4,
 "nbformat_minor": 5
}
