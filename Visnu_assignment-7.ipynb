{
 "cells": [
  {
   "cell_type": "code",
   "execution_count": null,
   "id": "7b81deb1",
   "metadata": {},
   "outputs": [],
   "source": [
    "<aside>\n",
    "💡 **Question 1**\n",
    "\n",
    "Given two strings s and t, *determine if they are isomorphic*.\n",
    "\n",
    "Two strings s and t are isomorphic if the characters in s can be replaced to get t.\n",
    "\n",
    "All occurrences of a character must be replaced with another character while preserving the order of characters. No two characters may map to the same character, but a character may map to itself.\n",
    "\n",
    "**Example 1:**\n",
    "\n",
    "**Input:** s = \"egg\", t = \"add\"\n",
    "\n",
    "**Output:** true\n",
    "\n",
    "</aside>"
   ]
  },
  {
   "cell_type": "code",
   "execution_count": 2,
   "id": "5b63e854",
   "metadata": {
    "ExecuteTime": {
     "end_time": "2023-06-04T15:56:10.142829Z",
     "start_time": "2023-06-04T15:56:10.123828Z"
    }
   },
   "outputs": [
    {
     "name": "stdout",
     "output_type": "stream",
     "text": [
      "True\n",
      "True\n"
     ]
    }
   ],
   "source": [
    "#Ans:\n",
    "\n",
    "def isomorphic(s, t):\n",
    "        dic={}\n",
    "        for x in range(len(s)):\n",
    "            if s[x] not in dic:\n",
    "                if t[x] not in dic.values():\n",
    "                    dic[s[x]]=t[x]\n",
    "                else:\n",
    "                    return False\n",
    "            elif t[x] != dic[s[x]]:\n",
    "                return False\n",
    "        return True\n",
    "    \n",
    "    \n",
    "    \n",
    "\n",
    "#case1\n",
    "print(isomorphic('egg', 'add'))\n",
    "\n",
    "#case2\n",
    "print(isomorphic('paper', 'title'))\n",
    "\n",
    "\n",
    "            \n",
    "    "
   ]
  },
  {
   "cell_type": "code",
   "execution_count": null,
   "id": "fe4adfd7",
   "metadata": {},
   "outputs": [],
   "source": []
  },
  {
   "cell_type": "code",
   "execution_count": null,
   "id": "dd9f230c",
   "metadata": {},
   "outputs": [],
   "source": []
  },
  {
   "cell_type": "code",
   "execution_count": null,
   "id": "595346ad",
   "metadata": {},
   "outputs": [],
   "source": [
    "<aside>\n",
    "💡 **Question 2**\n",
    "\n",
    "Given a string num which represents an integer, return true *if* num *is a **strobogrammatic number***.\n",
    "\n",
    "A **strobogrammatic number** is a number that looks the same when rotated 180 degrees (looked at upside down).\n",
    "\n",
    "**Example 1:**\n",
    "\n",
    "**Input:** num = \"69\"\n",
    "\n",
    "**Output:**\n",
    "\n",
    "true\n",
    "\n",
    "</aside>"
   ]
  },
  {
   "cell_type": "code",
   "execution_count": 9,
   "id": "60d74869",
   "metadata": {
    "ExecuteTime": {
     "end_time": "2023-06-04T16:29:50.421550Z",
     "start_time": "2023-06-04T16:29:50.404559Z"
    }
   },
   "outputs": [
    {
     "name": "stdout",
     "output_type": "stream",
     "text": [
      "True\n",
      "True\n",
      "False\n"
     ]
    }
   ],
   "source": [
    "#Ans:\n",
    "\n",
    "def strobogrammatic(num):\n",
    "    a=''\n",
    "    dic={'0':'0', '1':'1', '6':'9', '8':'8', '9':'6'}\n",
    "    for i in range(len(num)):\n",
    "        if num[i] in dic:\n",
    "            a= a + dic[num[i]]\n",
    "        else:\n",
    "            return False\n",
    "    if a==num[::-1]:\n",
    "        return True\n",
    "    else:\n",
    "        return False\n",
    "        \n",
    "\n",
    "print(strobogrammatic('69'))\n",
    "\n",
    "print(strobogrammatic('181'))\n",
    "\n",
    "print(strobogrammatic('699'))"
   ]
  },
  {
   "cell_type": "code",
   "execution_count": null,
   "id": "97fbb2b9",
   "metadata": {},
   "outputs": [],
   "source": []
  },
  {
   "cell_type": "code",
   "execution_count": null,
   "id": "0bffa5c7",
   "metadata": {},
   "outputs": [],
   "source": []
  },
  {
   "cell_type": "code",
   "execution_count": null,
   "id": "a94b279c",
   "metadata": {},
   "outputs": [],
   "source": [
    "<aside>\n",
    "💡 **Question 3**\n",
    "\n",
    "Given two non-negative integers, num1 and num2 represented as string, return *the sum of* num1 *and* num2 *as a string*.\n",
    "\n",
    "You must solve the problem without using any built-in library for handling large integers (such as BigInteger). You must also not convert the inputs to integers directly.\n",
    "\n",
    "**Example 1:**\n",
    "\n",
    "**Input:** num1 = \"11\", num2 = \"123\"\n",
    "\n",
    "**Output:**\n",
    "\n",
    "\"134\"\n",
    "\n",
    "</aside>"
   ]
  },
  {
   "cell_type": "code",
   "execution_count": 24,
   "id": "e0f62d02",
   "metadata": {
    "ExecuteTime": {
     "end_time": "2023-06-05T02:54:03.386094Z",
     "start_time": "2023-06-05T02:54:03.362133Z"
    }
   },
   "outputs": [
    {
     "name": "stdout",
     "output_type": "stream",
     "text": [
      "134\n",
      "29\n"
     ]
    }
   ],
   "source": [
    "#Ans:\n",
    "\n",
    "def sumofstrings(s1, s2):\n",
    "    a,b=0,0\n",
    "    for i in range(len(s1)):\n",
    "        a= (a*10) + (ord(s1[i]) -48)\n",
    "    for i in range(len(s2)):\n",
    "        b= (b*10) + (ord(s2[i]) -48)\n",
    "    return str(a+b)\n",
    "\n",
    "\n",
    "\n",
    "print(sumofstrings('11', '123'))\n",
    "\n",
    "print(sumofstrings('17', '12'))\n",
    "\n",
    "\n",
    "    \n",
    "        \n",
    "    "
   ]
  },
  {
   "cell_type": "code",
   "execution_count": null,
   "id": "9479b7fe",
   "metadata": {},
   "outputs": [],
   "source": []
  },
  {
   "cell_type": "code",
   "execution_count": null,
   "id": "5b5b8ddd",
   "metadata": {},
   "outputs": [],
   "source": []
  },
  {
   "cell_type": "code",
   "execution_count": null,
   "id": "cecf85b0",
   "metadata": {},
   "outputs": [],
   "source": [
    "<aside>\n",
    "💡 **Question 4**\n",
    "\n",
    "Given a string s, reverse the order of characters in each word within a sentence while still preserving whitespace and initial word order.\n",
    "\n",
    "**Example 1:**\n",
    "\n",
    "**Input:** s = \"Let's take LeetCode contest\"\n",
    "\n",
    "**Output:** \"s'teL ekat edoCteeL tsetnoc\"\n",
    "\n",
    "</aside>"
   ]
  },
  {
   "cell_type": "code",
   "execution_count": 60,
   "id": "c258c1a6",
   "metadata": {
    "ExecuteTime": {
     "end_time": "2023-06-05T03:56:09.813118Z",
     "start_time": "2023-06-05T03:56:09.795117Z"
    }
   },
   "outputs": [
    {
     "name": "stdout",
     "output_type": "stream",
     "text": [
      "s'teL ekat edoCteeL tsetnoc\n"
     ]
    }
   ],
   "source": [
    "def reverse_words(s):\n",
    "    w=map(lambda x: x[::-1], s.split(' '))\n",
    "    rev=' '.join(w)\n",
    "    return rev\n",
    "s = \"Let's take LeetCode contest\"\n",
    "print(reverse_words(s))\n",
    "            "
   ]
  },
  {
   "cell_type": "code",
   "execution_count": null,
   "id": "2c48ce37",
   "metadata": {},
   "outputs": [],
   "source": []
  },
  {
   "cell_type": "code",
   "execution_count": null,
   "id": "0c32d923",
   "metadata": {},
   "outputs": [],
   "source": []
  },
  {
   "cell_type": "code",
   "execution_count": null,
   "id": "72a2ac46",
   "metadata": {},
   "outputs": [],
   "source": [
    "Q5:\n",
    "    \n",
    "Given a string s and an integer k, reverse the first k characters for every 2k characters counting from the start of the string.\n",
    "\n",
    "If there are fewer than k characters left, reverse all of them. If there are less than 2k but greater than or equal to k characters, then reverse the first k characters and leave the other as original.\n",
    "\n",
    "**Example 1:**\n",
    "\n",
    "**Input:** s = \"abcdefg\", k = 2\n",
    "\n",
    "**Output:**\n",
    "\n",
    "\"bacdfeg\""
   ]
  },
  {
   "cell_type": "code",
   "execution_count": 34,
   "id": "0fa6f3ff",
   "metadata": {
    "ExecuteTime": {
     "end_time": "2023-06-07T11:53:24.257659Z",
     "start_time": "2023-06-07T11:53:24.245659Z"
    }
   },
   "outputs": [
    {
     "name": "stdout",
     "output_type": "stream",
     "text": [
      "bacdfeg\n",
      "bac\n"
     ]
    }
   ],
   "source": [
    "#Ans:\n",
    "def reverse_partial(s, k):\n",
    "    if len(s)< k:\n",
    "        return s[::-1]\n",
    "    x=''\n",
    "    for i in range(0, len(s), (2*k)):\n",
    "        x += s[i:i+k][::-1] +s[i+k:i+(2*k)]\n",
    "        \n",
    "    return x\n",
    "\n",
    "\n",
    "#case1\n",
    "print(reverse_partial('abcdefg', 2))\n",
    "\n",
    "\n",
    "#case2\n",
    "print(reverse_partial('abc', 2))\n",
    "\n",
    "\n",
    "    "
   ]
  },
  {
   "cell_type": "code",
   "execution_count": null,
   "id": "de94bedf",
   "metadata": {},
   "outputs": [],
   "source": []
  },
  {
   "cell_type": "code",
   "execution_count": null,
   "id": "ab4e0446",
   "metadata": {},
   "outputs": [],
   "source": []
  },
  {
   "cell_type": "code",
   "execution_count": null,
   "id": "091458f2",
   "metadata": {},
   "outputs": [],
   "source": [
    "<aside>\n",
    "💡 **Question 6**\n",
    "\n",
    "Given two strings s and goal, return true *if and only if* s *can become* goal *after some number of **shifts** on* s.\n",
    "\n",
    "A **shift** on s consists of moving the leftmost character of s to the rightmost position.\n",
    "\n",
    "- For example, if s = \"abcde\", then it will be \"bcdea\" after one shift.\n",
    "\n",
    "**Example 1:**\n",
    "\n",
    "**Input:** s = \"abcde\", goal = \"cdeab\"\n",
    "\n",
    "**Output:**\n",
    "\n",
    "true\n",
    "\n",
    "</aside>"
   ]
  },
  {
   "cell_type": "code",
   "execution_count": 16,
   "id": "eef3efc7",
   "metadata": {
    "ExecuteTime": {
     "end_time": "2023-06-07T11:31:34.401787Z",
     "start_time": "2023-06-07T11:31:34.380783Z"
    }
   },
   "outputs": [
    {
     "name": "stdout",
     "output_type": "stream",
     "text": [
      "True\n",
      "False\n"
     ]
    }
   ],
   "source": [
    "#Ans:\n",
    "\n",
    "def check_shift(s, goal):\n",
    "    if len(s)!=len(goal):\n",
    "        return False\n",
    "    for i  in range(len(s)):\n",
    "        s= s[1::] + s[0]\n",
    "        if s==goal:\n",
    "            return True\n",
    "    else:\n",
    "        return False\n",
    "\n",
    "    \n",
    "    \n",
    "    \n",
    "s = \"abcde\"\n",
    "goal = \"cdeab\"\n",
    "print(check_shift(s, goal))\n",
    "\n",
    "#case2\n",
    "\n",
    "s = \"abcde\"\n",
    "goal = \"cdeax\"\n",
    "print(check_shift(s, goal))"
   ]
  },
  {
   "cell_type": "code",
   "execution_count": null,
   "id": "fee1c97d",
   "metadata": {},
   "outputs": [],
   "source": []
  },
  {
   "cell_type": "code",
   "execution_count": null,
   "id": "f8c4b27d",
   "metadata": {},
   "outputs": [],
   "source": []
  },
  {
   "cell_type": "code",
   "execution_count": null,
   "id": "5fa24cf1",
   "metadata": {},
   "outputs": [],
   "source": [
    "<aside>\n",
    "💡 **Question 7**\n",
    "\n",
    "Given two strings s and t, return true *if they are equal when both are typed into empty text editors*. '#' means a backspace character.\n",
    "\n",
    "Note that after backspacing an empty text, the text will continue empty.\n",
    "\n",
    "**Example 1:**\n",
    "\n",
    "**Input:** s = \"ab#c\", t = \"ad#c\"\n",
    "\n",
    "**Output:** true\n",
    "\n",
    "**Explanation:**\n",
    "\n",
    "Both s and t become \"ac\".\n",
    "\n",
    "</aside>"
   ]
  },
  {
   "cell_type": "code",
   "execution_count": 11,
   "id": "04212a5f",
   "metadata": {
    "ExecuteTime": {
     "end_time": "2023-06-07T11:20:33.116143Z",
     "start_time": "2023-06-07T11:20:33.091142Z"
    }
   },
   "outputs": [
    {
     "name": "stdout",
     "output_type": "stream",
     "text": [
      "True\n",
      "True\n"
     ]
    }
   ],
   "source": [
    "#Ans:\n",
    "\n",
    "def empty_text(s, t):\n",
    "    x=[]\n",
    "    y=[]\n",
    "    for i in range(len(s)):\n",
    "        if x and s[i]=='#':\n",
    "            x.pop()\n",
    "        else:\n",
    "            x.append(s[i])\n",
    "    for j in range(len(t)):\n",
    "        if y and t[j]=='#':\n",
    "            y.pop()\n",
    "        else:\n",
    "            y.append(t[j])\n",
    "        \n",
    "    return x==y\n",
    "\n",
    "\n",
    "#case1\n",
    "print(empty_text(\"ab#c\", \"ad#c\"))\n",
    "\n",
    "#case2\n",
    "print(empty_text(\"ab#c\", \"ad#b#c\"))"
   ]
  },
  {
   "cell_type": "code",
   "execution_count": null,
   "id": "071fb8a3",
   "metadata": {},
   "outputs": [],
   "source": []
  },
  {
   "cell_type": "code",
   "execution_count": null,
   "id": "fedb5c04",
   "metadata": {},
   "outputs": [],
   "source": [
    "<aside>\n",
    "💡 **Question 8**\n",
    "\n",
    "You are given an array coordinates, coordinates[i] = [x, y], where [x, y] represents the coordinate of a point. Check if these points make a straight line in the XY plane.\n",
    "\n",
    "</aside>"
   ]
  },
  {
   "cell_type": "code",
   "execution_count": 3,
   "id": "0a9ba5a0",
   "metadata": {
    "ExecuteTime": {
     "end_time": "2023-06-07T11:05:52.640795Z",
     "start_time": "2023-06-07T11:05:52.614796Z"
    }
   },
   "outputs": [
    {
     "name": "stdout",
     "output_type": "stream",
     "text": [
      "True\n",
      "False\n"
     ]
    }
   ],
   "source": [
    "#Ans:\n",
    "\n",
    "def straight_line(coor):\n",
    "    x0, y0 = coor[-1]\n",
    "    x1, y1 = coor[-2]\n",
    "    return all((x1 - x0) * (y - y1) == (x - x1) * (y1 - y0) for x, y in coor)\n",
    "    \n",
    "    \n",
    "print(straight_line([[1,2],[2,3],[3,4],[4,5],[5,6],[6,7]]))\n",
    "    \n",
    "print(straight_line([[1,2],[2,3],[3,4],[4,0],[5,6],[6,7]]))\n",
    "    \n",
    "    \n"
   ]
  },
  {
   "cell_type": "code",
   "execution_count": null,
   "id": "ae9ae64a",
   "metadata": {},
   "outputs": [],
   "source": []
  }
 ],
 "metadata": {
  "hide_input": false,
  "kernelspec": {
   "display_name": "Python 3",
   "language": "python",
   "name": "python3"
  },
  "language_info": {
   "codemirror_mode": {
    "name": "ipython",
    "version": 3
   },
   "file_extension": ".py",
   "mimetype": "text/x-python",
   "name": "python",
   "nbconvert_exporter": "python",
   "pygments_lexer": "ipython3",
   "version": "3.8.8"
  },
  "toc": {
   "base_numbering": 1,
   "nav_menu": {},
   "number_sections": true,
   "sideBar": true,
   "skip_h1_title": false,
   "title_cell": "Table of Contents",
   "title_sidebar": "Contents",
   "toc_cell": false,
   "toc_position": {},
   "toc_section_display": true,
   "toc_window_display": false
  }
 },
 "nbformat": 4,
 "nbformat_minor": 5
}
