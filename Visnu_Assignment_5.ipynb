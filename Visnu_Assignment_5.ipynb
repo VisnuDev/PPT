{
 "cells": [
  {
   "cell_type": "code",
   "execution_count": null,
   "id": "0d53930b",
   "metadata": {},
   "outputs": [],
   "source": [
    "💡 **Question 1**\n",
    "\n",
    "Convert 1D Array Into 2D Array\n",
    "\n",
    "You are given a **0-indexed** 1-dimensional (1D) integer array original, and two integers, m and n. You are tasked with creating a 2-dimensional (2D) array with  m rows and n columns using **all** the elements from original.\n",
    "\n",
    "The elements from indices 0 to n - 1 (**inclusive**) of original should form the first row of the constructed 2D array, the elements from indices n to 2 * n - 1 (**inclusive**) should form the second row of the constructed 2D array, and so on.\n",
    "\n",
    "Return *an* m x n *2D array constructed according to the above procedure, or an empty 2D array if it is impossible*.\n",
    "\n",
    "</aside>"
   ]
  },
  {
   "cell_type": "code",
   "execution_count": 11,
   "id": "eb7971a2",
   "metadata": {
    "ExecuteTime": {
     "end_time": "2023-06-03T21:35:05.798747Z",
     "start_time": "2023-06-03T21:35:05.773753Z"
    }
   },
   "outputs": [
    {
     "name": "stdout",
     "output_type": "stream",
     "text": [
      "[[1, 2], [3, 4]]\n",
      "[[1, 1, 1], [2, 2, 2], [3, 3, 3]]\n",
      "[[], [], [], []]\n"
     ]
    }
   ],
   "source": [
    "#Ans:\n",
    "\n",
    "def resize_matrix(mat: list, m: int, n:int):\n",
    "    if m*n != len(mat):\n",
    "        new_mat=[[]*m for j in range(n) ]\n",
    "        return new_mat\n",
    "    else:\n",
    "        new_mat=[]\n",
    "        for i in range(0, len(mat),n):\n",
    "            new_mat.append(mat[i:i+n])\n",
    "    return new_mat\n",
    "\n",
    "\n",
    "\n",
    "\n",
    "\n",
    "#case1\n",
    "print(resize_matrix([1,2,3,4], 2, 2))\n",
    "\n",
    "\n",
    "#case2\n",
    "print(resize_matrix([1,1,1,2,2,2,3,3,3], 3, 3))\n",
    "\n",
    "\n",
    "#case3\n",
    "print(resize_matrix([1,1,1,2,2,2,3,3,3], 3, 4))\n",
    "\n",
    "    "
   ]
  },
  {
   "cell_type": "code",
   "execution_count": null,
   "id": "63131d2e",
   "metadata": {},
   "outputs": [],
   "source": []
  },
  {
   "cell_type": "code",
   "execution_count": null,
   "id": "dd7dcd58",
   "metadata": {},
   "outputs": [],
   "source": []
  },
  {
   "cell_type": "code",
   "execution_count": null,
   "id": "efa200ce",
   "metadata": {},
   "outputs": [],
   "source": [
    "\n",
    "💡 **Question 2**\n",
    "\n",
    "You have n coins and you want to build a staircase with these coins. The staircase consists of k rows where the ith row has exactly i coins. The last row of the staircase **may be** incomplete.\n",
    "\n",
    "Given the integer n, return *the number of **complete rows** of the staircase you will build*.\n"
   ]
  },
  {
   "cell_type": "code",
   "execution_count": 14,
   "id": "d1d8af79",
   "metadata": {
    "ExecuteTime": {
     "end_time": "2023-06-03T21:45:29.613546Z",
     "start_time": "2023-06-03T21:45:29.587555Z"
    }
   },
   "outputs": [
    {
     "name": "stdout",
     "output_type": "stream",
     "text": [
      "4\n",
      "0\n",
      "0\n"
     ]
    }
   ],
   "source": [
    "#Ans:\n",
    "\n",
    "def staircase(n):\n",
    "    if n<=0:\n",
    "        return 0\n",
    "    c=0\n",
    "    l=1\n",
    "    while n>=l:\n",
    "        n -= l\n",
    "        l+=1\n",
    "        c+=1\n",
    "    return c\n",
    "\n",
    "\n",
    "\n",
    "print(staircase(10))\n",
    "\n",
    "\n",
    "print(staircase(0))\n",
    "\n",
    "\n",
    "print(staircase(-10))"
   ]
  },
  {
   "cell_type": "code",
   "execution_count": null,
   "id": "2d99a8e1",
   "metadata": {},
   "outputs": [],
   "source": []
  },
  {
   "cell_type": "code",
   "execution_count": null,
   "id": "85c74a6f",
   "metadata": {},
   "outputs": [],
   "source": []
  },
  {
   "cell_type": "code",
   "execution_count": null,
   "id": "462ca546",
   "metadata": {},
   "outputs": [],
   "source": [
    "<aside>\n",
    "💡 **Question 3**\n",
    "\n",
    "Given an integer array nums sorted in **non-decreasing** order, return *an array of **the squares of each number** sorted in non-decreasing order*.\n",
    "\n",
    "**Example 1:**\n",
    "\n",
    "**Input:** nums = [-4,-1,0,3,10]\n",
    "\n",
    "**Output:** [0,1,9,16,100]\n",
    "\n",
    "**Explanation:** After squaring, the array becomes [16,1,0,9,100].\n",
    "\n",
    "After sorting, it becomes [0,1,9,16,100].\n",
    "\n",
    "</aside>"
   ]
  },
  {
   "cell_type": "code",
   "execution_count": 17,
   "id": "dedc3061",
   "metadata": {
    "ExecuteTime": {
     "end_time": "2023-06-03T21:48:17.651851Z",
     "start_time": "2023-06-03T21:48:17.638854Z"
    }
   },
   "outputs": [
    {
     "name": "stdout",
     "output_type": "stream",
     "text": [
      "[0, 1, 9, 16, 100]\n"
     ]
    }
   ],
   "source": [
    "#Ans:\n",
    "\n",
    "def squares(arr):\n",
    "    for i in range(len(arr)):\n",
    "        arr[i] **= 2 \n",
    "    return sorted(arr)\n",
    "\n",
    "\n",
    "print(squares([-4,-1,0,3,10]))"
   ]
  },
  {
   "cell_type": "code",
   "execution_count": null,
   "id": "bc74885a",
   "metadata": {},
   "outputs": [],
   "source": []
  },
  {
   "cell_type": "code",
   "execution_count": null,
   "id": "4dbd5b60",
   "metadata": {},
   "outputs": [],
   "source": []
  },
  {
   "cell_type": "code",
   "execution_count": null,
   "id": "730f9448",
   "metadata": {},
   "outputs": [],
   "source": [
    "<aside>\n",
    "💡 **Question 4**\n",
    "\n",
    "Given two **0-indexed** integer arrays nums1 and nums2, return *a list* answer *of size* 2 *where:*\n",
    "\n",
    "- answer[0] *is a list of all **distinct** integers in* nums1 *which are **not** present in* nums2*.*\n",
    "- answer[1] *is a list of all **distinct** integers in* nums2 *which are **not** present in* nums1.\n",
    "\n",
    "**Note** that the integers in the lists may be returned in **any** order.\n",
    "\n",
    "**Example 1:**\n",
    "\n",
    "**Input:** nums1 = [1,2,3], nums2 = [2,4,6]\n",
    "\n",
    "**Output:** [[1,3],[4,6]]\n",
    "\n",
    "**Explanation:**\n",
    "\n",
    "For nums1, nums1[1] = 2 is present at index 0 of nums2, whereas nums1[0] = 1 and nums1[2] = 3 are not present in nums2. Therefore, answer[0] = [1,3].\n",
    "\n",
    "For nums2, nums2[0] = 2 is present at index 1 of nums1, whereas nums2[1] = 4 and nums2[2] = 6 are not present in nums2. Therefore, answer[1] = [4,6].\n",
    "\n",
    "</aside>"
   ]
  },
  {
   "cell_type": "code",
   "execution_count": 18,
   "id": "243cafec",
   "metadata": {
    "ExecuteTime": {
     "end_time": "2023-06-03T22:16:44.186537Z",
     "start_time": "2023-06-03T22:16:44.166531Z"
    }
   },
   "outputs": [
    {
     "name": "stdout",
     "output_type": "stream",
     "text": [
      "[[1, 3], [4, 6]]\n"
     ]
    }
   ],
   "source": [
    "def distint_values(arr1, arr2):\n",
    "    dist= [[]]\n",
    "    arr1=list(set(arr1))\n",
    "    arr2=list(set(arr2))\n",
    "    for i in range(len(arr1)):\n",
    "        if arr1[i] not in arr2:\n",
    "            dist[0].append(arr1[i])\n",
    "        else:\n",
    "            arr2.remove(arr1[i])\n",
    "    dist.append(arr2)\n",
    "    return dist\n",
    "\n",
    "\n",
    "\n",
    "#case\n",
    "print(distint_values([1,2,3],[2,4,6]))\n",
    "    "
   ]
  },
  {
   "cell_type": "code",
   "execution_count": null,
   "id": "f27aa413",
   "metadata": {},
   "outputs": [],
   "source": []
  },
  {
   "cell_type": "code",
   "execution_count": null,
   "id": "28fc6d42",
   "metadata": {},
   "outputs": [],
   "source": []
  },
  {
   "cell_type": "code",
   "execution_count": null,
   "id": "6dbfa1b9",
   "metadata": {},
   "outputs": [],
   "source": [
    "<aside>\n",
    "💡 **Question 5**\n",
    "\n",
    "Given two integer arrays arr1 and arr2, and the integer d, *return the distance value between the two arrays*.\n",
    "\n",
    "The distance value is defined as the number of elements arr1[i] such that there is not any element arr2[j] where |arr1[i]-arr2[j]| <= d.\n",
    "\n",
    "**Example 1:**\n",
    "\n",
    "**Input:** arr1 = [4,5,8], arr2 = [10,9,1,8], d = 2\n",
    "\n",
    "**Output:** 2\n",
    "\n",
    "**Explanation:**\n",
    "\n",
    "For arr1[0]=4 we have:\n",
    "\n",
    "|4-10|=6 > d=2\n",
    "\n",
    "|4-9|=5 > d=2\n",
    "\n",
    "|4-1|=3 > d=2\n",
    "\n",
    "|4-8|=4 > d=2\n",
    "\n",
    "For arr1[1]=5 we have:\n",
    "\n",
    "|5-10|=5 > d=2\n",
    "\n",
    "|5-9|=4 > d=2\n",
    "\n",
    "|5-1|=4 > d=2\n",
    "\n",
    "|5-8|=3 > d=2\n",
    "\n",
    "For arr1[2]=8 we have:\n",
    "\n",
    "**|8-10|=2 <= d=2**\n",
    "\n",
    "**|8-9|=1 <= d=2**\n",
    "\n",
    "|8-1|=7 > d=2\n",
    "\n",
    "**|8-8|=0 <= d=2**\n",
    "\n",
    "</aside>"
   ]
  },
  {
   "cell_type": "code",
   "execution_count": 33,
   "id": "36ace2d4",
   "metadata": {
    "ExecuteTime": {
     "end_time": "2023-06-03T23:46:28.461355Z",
     "start_time": "2023-06-03T23:46:28.451352Z"
    }
   },
   "outputs": [
    {
     "name": "stdout",
     "output_type": "stream",
     "text": [
      "2\n"
     ]
    }
   ],
   "source": [
    "#Ans:\n",
    "\n",
    "def find_dist(arr1, arr2, d):\n",
    "    c=0\n",
    "    flag=0\n",
    "    for i in range(len(arr1)):\n",
    "        for x in arr2:\n",
    "            if abs(arr1[i]-x) <=d:\n",
    "                flag=1\n",
    "        if flag==0:\n",
    "            c+=1\n",
    "        else:\n",
    "            flag=0\n",
    "    return c\n",
    "\n",
    "\n",
    "\n",
    "arr1 = [4,5,8]\n",
    "arr2 = [10,9,1,8]\n",
    "d = 2\n",
    "\n",
    "print(find_dist(arr1,arr2,d))"
   ]
  },
  {
   "cell_type": "code",
   "execution_count": null,
   "id": "bc210776",
   "metadata": {},
   "outputs": [],
   "source": []
  },
  {
   "cell_type": "code",
   "execution_count": null,
   "id": "6c55faa4",
   "metadata": {},
   "outputs": [],
   "source": []
  },
  {
   "cell_type": "code",
   "execution_count": null,
   "id": "6acd37f5",
   "metadata": {},
   "outputs": [],
   "source": [
    "<aside>\n",
    "💡 **Question 6**\n",
    "\n",
    "Given an integer array nums of length n where all the integers of nums are in the range [1, n] and each integer appears **once** or **twice**, return *an array of all the integers that appears **twice***.\n",
    "\n",
    "You must write an algorithm that runs in O(n) time and uses only constant extra space.\n",
    "\n",
    "**Example 1:**\n",
    "\n",
    "**Input:** nums = [4,3,2,7,8,2,3,1]\n",
    "\n",
    "**Output:**\n",
    "\n",
    "[2,3]\n",
    "\n",
    "</aside>"
   ]
  },
  {
   "cell_type": "code",
   "execution_count": 19,
   "id": "5f8455f4",
   "metadata": {
    "ExecuteTime": {
     "end_time": "2023-06-03T22:32:07.837324Z",
     "start_time": "2023-06-03T22:32:07.820291Z"
    }
   },
   "outputs": [
    {
     "name": "stdout",
     "output_type": "stream",
     "text": [
      "[2, 3]\n"
     ]
    }
   ],
   "source": [
    "def twice(arr):\n",
    "    num1=[]\n",
    "    num2=[]\n",
    "    for i in arr:\n",
    "        if i in num1:\n",
    "            num2.append(i)\n",
    "        else:\n",
    "            num1.append(i)\n",
    "    return num2\n",
    "\n",
    "\n",
    "print(twice([4,3,2,7,8,2,3,1]))"
   ]
  },
  {
   "cell_type": "code",
   "execution_count": null,
   "id": "add26d1a",
   "metadata": {},
   "outputs": [],
   "source": []
  },
  {
   "cell_type": "code",
   "execution_count": null,
   "id": "8007600d",
   "metadata": {},
   "outputs": [],
   "source": []
  },
  {
   "cell_type": "code",
   "execution_count": null,
   "id": "5ef14c1c",
   "metadata": {},
   "outputs": [],
   "source": [
    "<aside>\n",
    "💡 **Question 7**\n",
    "\n",
    "Suppose an array of length n sorted in ascending order is **rotated** between 1 and n times. For example, the array nums = [0,1,2,4,5,6,7] might become:\n",
    "\n",
    "- [4,5,6,7,0,1,2] if it was rotated 4 times.\n",
    "- [0,1,2,4,5,6,7] if it was rotated 7 times.\n",
    "\n",
    "Notice that **rotating** an array [a[0], a[1], a[2], ..., a[n-1]] 1 time results in the array [a[n-1], a[0], a[1], a[2], ..., a[n-2]].\n",
    "\n",
    "Given the sorted rotated array nums of **unique** elements, return *the minimum element of this array*.\n",
    "\n",
    "You must write an algorithm that runs in O(log n) time.\n",
    "\n",
    "**Example 1:**\n",
    "\n",
    "**Input:** nums = [3,4,5,1,2]\n",
    "\n",
    "**Output:** 1\n",
    "\n",
    "**Explanation:**\n",
    "\n",
    "The original array was [1,2,3,4,5] rotated 3 times\n",
    "\n",
    "</aside>"
   ]
  },
  {
   "cell_type": "code",
   "execution_count": 21,
   "id": "0ef25a68",
   "metadata": {
    "ExecuteTime": {
     "end_time": "2023-06-03T22:42:43.454873Z",
     "start_time": "2023-06-03T22:42:43.443877Z"
    }
   },
   "outputs": [
    {
     "name": "stdout",
     "output_type": "stream",
     "text": [
      "1\n"
     ]
    }
   ],
   "source": [
    "#Ans\n",
    "\n",
    "def return_min(arr):\n",
    "    arr.sort()\n",
    "    return arr[0]\n",
    "\n",
    "\n",
    "print(return_min([3,4,5,1,2]))"
   ]
  },
  {
   "cell_type": "code",
   "execution_count": null,
   "id": "cfbae1be",
   "metadata": {},
   "outputs": [],
   "source": []
  },
  {
   "cell_type": "code",
   "execution_count": null,
   "id": "82b69197",
   "metadata": {},
   "outputs": [],
   "source": [
    "<aside>\n",
    "💡 **Question 8**\n",
    "\n",
    "An integer array original is transformed into a **doubled** array changed by appending **twice the value** of every element in original, and then randomly **shuffling** the resulting array.\n",
    "\n",
    "Given an array changed, return original *if* changed *is a **doubled** array. If* changed *is not a **doubled** array, return an empty array. The elements in* original *may be returned in **any** order*.\n",
    "\n",
    "**Example 1:**\n",
    "\n",
    "**Input:** changed = [1,3,4,2,6,8]\n",
    "\n",
    "**Output:** [1,3,4]\n",
    "\n",
    "**Explanation:** One possible original array could be [1,3,4]:\n",
    "\n",
    "- Twice the value of 1 is 1 * 2 = 2.\n",
    "- Twice the value of 3 is 3 * 2 = 6.\n",
    "- Twice the value of 4 is 4 * 2 = 8.\n",
    "\n",
    "Other original arrays could be [4,3,1] or [3,1,4].\n",
    "\n",
    "</aside>"
   ]
  },
  {
   "cell_type": "code",
   "execution_count": 31,
   "id": "ca664b9e",
   "metadata": {
    "ExecuteTime": {
     "end_time": "2023-06-03T23:27:44.509946Z",
     "start_time": "2023-06-03T23:27:44.500941Z"
    }
   },
   "outputs": [
    {
     "name": "stdout",
     "output_type": "stream",
     "text": [
      "[1, 3, 4]\n"
     ]
    }
   ],
   "source": [
    "#Ans\n",
    "\n",
    "def orig_arr(nums):\n",
    "    nums.sort()\n",
    "    orig=[]\n",
    "    while nums != []:\n",
    "        a= nums[0]\n",
    "        if a*2 in nums:\n",
    "            orig.append(a)\n",
    "            nums.remove(a*2)\n",
    "            if a in nums:\n",
    "                nums.remove(a)\n",
    "        else:\n",
    "            return []\n",
    "            \n",
    "    return orig\n",
    "            \n",
    "        \n",
    "print(orig_arr([1,3,4,2,6,8]))"
   ]
  },
  {
   "cell_type": "code",
   "execution_count": null,
   "id": "bd829201",
   "metadata": {},
   "outputs": [],
   "source": []
  }
 ],
 "metadata": {
  "hide_input": false,
  "kernelspec": {
   "display_name": "Python 3",
   "language": "python",
   "name": "python3"
  },
  "language_info": {
   "codemirror_mode": {
    "name": "ipython",
    "version": 3
   },
   "file_extension": ".py",
   "mimetype": "text/x-python",
   "name": "python",
   "nbconvert_exporter": "python",
   "pygments_lexer": "ipython3",
   "version": "3.8.8"
  },
  "toc": {
   "base_numbering": 1,
   "nav_menu": {},
   "number_sections": true,
   "sideBar": true,
   "skip_h1_title": false,
   "title_cell": "Table of Contents",
   "title_sidebar": "Contents",
   "toc_cell": false,
   "toc_position": {},
   "toc_section_display": true,
   "toc_window_display": false
  }
 },
 "nbformat": 4,
 "nbformat_minor": 5
}
